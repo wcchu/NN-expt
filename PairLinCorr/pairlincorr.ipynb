{
 "cells": [
  {
   "cell_type": "code",
   "execution_count": 1,
   "metadata": {},
   "outputs": [],
   "source": [
    "import numpy as np\n",
    "import pandas as pd\n",
    "import tensorflow as tf\n",
    "import matplotlib.pyplot as plt\n",
    "from sklearn.model_selection import train_test_split"
   ]
  },
  {
   "cell_type": "markdown",
   "metadata": {},
   "source": [
    "# Prepare data"
   ]
  },
  {
   "cell_type": "code",
   "execution_count": 2,
   "metadata": {},
   "outputs": [
    {
     "name": "stdout",
     "output_type": "stream",
     "text": [
      "data size: 270351\n"
     ]
    }
   ],
   "source": [
    "# import\n",
    "data = pd.read_csv(\n",
    "    'input.csv', dtype={\n",
    "        'item1': str,\n",
    "        'value1': float,\n",
    "        'item2': str,\n",
    "        'value2': float\n",
    "    })\n",
    "print('data size: {}'.format(len(data)))\n",
    "\n",
    "data['shift'] = data['value2'] - data['value1']\n",
    "\n",
    "x = data[['item1', 'value1', 'item2', 'value2']]\n",
    "y = data['shift']"
   ]
  },
  {
   "cell_type": "code",
   "execution_count": 3,
   "metadata": {},
   "outputs": [],
   "source": [
    "# split training and test sets\n",
    "x_train, x_test, y_train, y_test = train_test_split(\n",
    "    x, y, test_size=0.2, random_state=1)"
   ]
  },
  {
   "cell_type": "markdown",
   "metadata": {},
   "source": [
    "# Define columns"
   ]
  },
  {
   "cell_type": "code",
   "execution_count": 4,
   "metadata": {},
   "outputs": [
    {
     "name": "stdout",
     "output_type": "stream",
     "text": [
      "number of unique items: 704\n"
     ]
    }
   ],
   "source": [
    "# count feature values\n",
    "list_items = x_train['item1'].append(x_train['item2']).drop_duplicates().tolist()\n",
    "n_items = len(list_items)\n",
    "print(\"number of unique items: {}\".format(n_items))\n",
    "\n",
    "# columns\n",
    "item1_col = tf.feature_column.indicator_column(\n",
    "    tf.feature_column.categorical_column_with_vocabulary_list(\n",
    "        'item1', vocabulary_list=list_items))\n",
    "value1_col = tf.feature_column.numeric_column('value1')\n",
    "item2_col = tf.feature_column.indicator_column(\n",
    "    tf.feature_column.categorical_column_with_vocabulary_list(\n",
    "        'item2', vocabulary_list=list_items))\n",
    "value2_col = tf.feature_column.numeric_column('value2')"
   ]
  },
  {
   "cell_type": "markdown",
   "metadata": {},
   "source": [
    "# Configure model"
   ]
  },
  {
   "cell_type": "code",
   "execution_count": 5,
   "metadata": {},
   "outputs": [],
   "source": [
    "# build input function\n",
    "input_fn_train=tf.estimator.inputs.pandas_input_fn(\n",
    "        x=x_train,\n",
    "        y=y_train,\n",
    "        batch_size=100,\n",
    "        num_epochs=5,\n",
    "        shuffle=True\n",
    "    )"
   ]
  },
  {
   "cell_type": "code",
   "execution_count": 6,
   "metadata": {},
   "outputs": [],
   "source": [
    "# build model function\n",
    "def model_fn(features, labels, mode, params):\n",
    "    input_layer = {\n",
    "        'item1': tf.feature_column.input_layer(features={'item1': features['item1']},\n",
    "                                               feature_columns=params['feature_columns'][0]),\n",
    "        'value1': tf.feature_column.input_layer(features={'value1': features['value1']},\n",
    "                                                feature_columns=params['feature_columns'][1]),\n",
    "        'item2': tf.feature_column.input_layer(features={'item2': features['item2']},\n",
    "                                               feature_columns=params['feature_columns'][2]),\n",
    "        'value2': tf.feature_column.input_layer(features={'value2': features['value2']},\n",
    "                                                feature_columns=params['feature_columns'][3])\n",
    "    }\n",
    "        \n",
    "    input_1 = tf.concat((input_layer['item1'],\n",
    "                         tf.multiply(tf.concat([input_layer['value1']]*n_items, axis=1),\n",
    "                                     input_layer['item1'])),\n",
    "                        axis=1)\n",
    "    input_2 = tf.concat((input_layer['item2'],\n",
    "                         tf.multiply(tf.concat([input_layer['value2']]*n_items, axis=1),\n",
    "                                     input_layer['item2'])),\n",
    "                        axis=1)\n",
    "    \n",
    "    subtracted = tf.subtract(input_1, input_2)\n",
    "    out = tf.layers.dense(\n",
    "        inputs=subtracted,\n",
    "        units=1,\n",
    "        use_bias=False,\n",
    "        kernel_initializer=None)\n",
    "\n",
    "    # define head\n",
    "    my_head = tf.contrib.estimator.regression_head(\n",
    "        label_dimension=1,\n",
    "        loss_fn=None  # custom loss, default: mean_squared_error\n",
    "    )\n",
    "\n",
    "    return my_head.create_estimator_spec(\n",
    "        features=features,\n",
    "        mode=mode,\n",
    "        labels=labels,\n",
    "        optimizer=tf.train.FtrlOptimizer(params['step_size']),\n",
    "        logits=out,\n",
    "    )"
   ]
  },
  {
   "cell_type": "code",
   "execution_count": 7,
   "metadata": {},
   "outputs": [
    {
     "name": "stdout",
     "output_type": "stream",
     "text": [
      "INFO:tensorflow:Using default config.\n",
      "INFO:tensorflow:Using config: {'_model_dir': 'model_dir/', '_tf_random_seed': None, '_save_summary_steps': 100, '_save_checkpoints_steps': None, '_save_checkpoints_secs': 600, '_session_config': allow_soft_placement: true\n",
      "graph_options {\n",
      "  rewrite_options {\n",
      "    meta_optimizer_iterations: ONE\n",
      "  }\n",
      "}\n",
      ", '_keep_checkpoint_max': 5, '_keep_checkpoint_every_n_hours': 10000, '_log_step_count_steps': 100, '_train_distribute': None, '_device_fn': None, '_protocol': None, '_eval_distribute': None, '_experimental_distribute': None, '_service': None, '_cluster_spec': <tensorflow.python.training.server_lib.ClusterSpec object at 0x7f216ca66278>, '_task_type': 'worker', '_task_id': 0, '_global_id_in_cluster': 0, '_master': '', '_evaluation_master': '', '_is_chief': True, '_num_ps_replicas': 0, '_num_worker_replicas': 1}\n"
     ]
    }
   ],
   "source": [
    "# define dir to save model\n",
    "model_dir = 'model_dir/'\n",
    "\n",
    "# custom estimator\n",
    "regressor = tf.estimator.Estimator(\n",
    "    model_dir=model_dir,\n",
    "    model_fn=model_fn,\n",
    "    params={'feature_columns': [item1_col, value1_col, item2_col, value2_col],\n",
    "            'step_size': 0.1}\n",
    ")"
   ]
  },
  {
   "cell_type": "markdown",
   "metadata": {},
   "source": [
    "# Execute training"
   ]
  },
  {
   "cell_type": "code",
   "execution_count": 8,
   "metadata": {},
   "outputs": [
    {
     "name": "stdout",
     "output_type": "stream",
     "text": [
      "WARNING:tensorflow:From /home/wei-chun/.local/lib/python3.6/site-packages/tensorflow/python/estimator/inputs/queues/feeding_queue_runner.py:62: QueueRunner.__init__ (from tensorflow.python.training.queue_runner_impl) is deprecated and will be removed in a future version.\n",
      "Instructions for updating:\n",
      "To construct input pipelines, use the `tf.data` module.\n",
      "WARNING:tensorflow:From /home/wei-chun/.local/lib/python3.6/site-packages/tensorflow/python/estimator/inputs/queues/feeding_functions.py:500: add_queue_runner (from tensorflow.python.training.queue_runner_impl) is deprecated and will be removed in a future version.\n",
      "Instructions for updating:\n",
      "To construct input pipelines, use the `tf.data` module.\n",
      "INFO:tensorflow:Calling model_fn.\n",
      "INFO:tensorflow:Done calling model_fn.\n",
      "INFO:tensorflow:Create CheckpointSaverHook.\n",
      "INFO:tensorflow:Graph was finalized.\n",
      "INFO:tensorflow:Restoring parameters from model_dir/model.ckpt-12978\n",
      "INFO:tensorflow:Running local_init_op.\n",
      "INFO:tensorflow:Done running local_init_op.\n",
      "WARNING:tensorflow:From /home/wei-chun/.local/lib/python3.6/site-packages/tensorflow/python/training/monitored_session.py:804: start_queue_runners (from tensorflow.python.training.queue_runner_impl) is deprecated and will be removed in a future version.\n",
      "Instructions for updating:\n",
      "To construct input pipelines, use the `tf.data` module.\n",
      "INFO:tensorflow:Saving checkpoints for 12978 into model_dir/model.ckpt.\n",
      "INFO:tensorflow:loss = 0.17732638, step = 12979\n",
      "INFO:tensorflow:global_step/sec: 230.598\n",
      "INFO:tensorflow:loss = 0.16399024, step = 13079 (0.434 sec)\n",
      "INFO:tensorflow:global_step/sec: 270.256\n",
      "INFO:tensorflow:loss = 0.17308079, step = 13179 (0.370 sec)\n",
      "INFO:tensorflow:global_step/sec: 282.737\n",
      "INFO:tensorflow:loss = 0.25082386, step = 13279 (0.354 sec)\n",
      "INFO:tensorflow:global_step/sec: 283.707\n",
      "INFO:tensorflow:loss = 0.13310479, step = 13379 (0.353 sec)\n",
      "INFO:tensorflow:global_step/sec: 275.748\n",
      "INFO:tensorflow:loss = 0.10910723, step = 13479 (0.363 sec)\n",
      "INFO:tensorflow:global_step/sec: 279.133\n",
      "INFO:tensorflow:loss = 0.2540079, step = 13579 (0.358 sec)\n",
      "INFO:tensorflow:global_step/sec: 279.946\n",
      "INFO:tensorflow:loss = 0.199703, step = 13679 (0.357 sec)\n",
      "INFO:tensorflow:global_step/sec: 278.076\n",
      "INFO:tensorflow:loss = 0.25097048, step = 13779 (0.360 sec)\n",
      "INFO:tensorflow:global_step/sec: 283.889\n",
      "INFO:tensorflow:loss = 0.27544132, step = 13879 (0.352 sec)\n",
      "INFO:tensorflow:global_step/sec: 282.749\n",
      "INFO:tensorflow:loss = 0.28662932, step = 13979 (0.354 sec)\n",
      "INFO:tensorflow:global_step/sec: 284.788\n",
      "INFO:tensorflow:loss = 0.26805007, step = 14079 (0.351 sec)\n",
      "INFO:tensorflow:global_step/sec: 288.071\n",
      "INFO:tensorflow:loss = 0.24887635, step = 14179 (0.347 sec)\n",
      "INFO:tensorflow:global_step/sec: 278.321\n",
      "INFO:tensorflow:loss = 0.20824233, step = 14279 (0.359 sec)\n",
      "INFO:tensorflow:global_step/sec: 275.424\n",
      "INFO:tensorflow:loss = 0.17677857, step = 14379 (0.364 sec)\n",
      "INFO:tensorflow:global_step/sec: 283.571\n",
      "INFO:tensorflow:loss = 0.21340695, step = 14479 (0.352 sec)\n",
      "INFO:tensorflow:global_step/sec: 288.194\n",
      "INFO:tensorflow:loss = 0.18528034, step = 14579 (0.347 sec)\n",
      "INFO:tensorflow:global_step/sec: 290.343\n",
      "INFO:tensorflow:loss = 0.2169865, step = 14679 (0.344 sec)\n",
      "INFO:tensorflow:global_step/sec: 275.258\n",
      "INFO:tensorflow:loss = 0.11123818, step = 14779 (0.363 sec)\n",
      "INFO:tensorflow:global_step/sec: 283.734\n",
      "INFO:tensorflow:loss = 0.21678123, step = 14879 (0.353 sec)\n",
      "INFO:tensorflow:global_step/sec: 284.237\n",
      "INFO:tensorflow:loss = 0.12577987, step = 14979 (0.352 sec)\n",
      "INFO:tensorflow:global_step/sec: 287.292\n",
      "INFO:tensorflow:loss = 0.15960999, step = 15079 (0.348 sec)\n",
      "INFO:tensorflow:global_step/sec: 284.178\n",
      "INFO:tensorflow:loss = 0.25288317, step = 15179 (0.352 sec)\n",
      "INFO:tensorflow:global_step/sec: 288.018\n",
      "INFO:tensorflow:loss = 0.15755907, step = 15279 (0.347 sec)\n",
      "INFO:tensorflow:global_step/sec: 294.689\n",
      "INFO:tensorflow:loss = 0.13922822, step = 15379 (0.340 sec)\n",
      "INFO:tensorflow:global_step/sec: 287.837\n",
      "INFO:tensorflow:loss = 0.18868929, step = 15479 (0.347 sec)\n",
      "INFO:tensorflow:global_step/sec: 284.171\n",
      "INFO:tensorflow:loss = 0.20317344, step = 15579 (0.352 sec)\n",
      "INFO:tensorflow:global_step/sec: 289.534\n",
      "INFO:tensorflow:loss = 0.2343479, step = 15679 (0.345 sec)\n",
      "INFO:tensorflow:global_step/sec: 277.69\n",
      "INFO:tensorflow:loss = 0.22341825, step = 15779 (0.360 sec)\n",
      "INFO:tensorflow:global_step/sec: 287.849\n",
      "INFO:tensorflow:loss = 0.12274581, step = 15879 (0.347 sec)\n",
      "INFO:tensorflow:global_step/sec: 281.876\n",
      "INFO:tensorflow:loss = 0.19430256, step = 15979 (0.355 sec)\n",
      "INFO:tensorflow:global_step/sec: 294.788\n",
      "INFO:tensorflow:loss = 0.12055816, step = 16079 (0.339 sec)\n",
      "INFO:tensorflow:global_step/sec: 276.175\n",
      "INFO:tensorflow:loss = 0.1336401, step = 16179 (0.362 sec)\n",
      "INFO:tensorflow:global_step/sec: 283.375\n",
      "INFO:tensorflow:loss = 0.20484625, step = 16279 (0.353 sec)\n",
      "INFO:tensorflow:global_step/sec: 279.541\n",
      "INFO:tensorflow:loss = 0.17262813, step = 16379 (0.358 sec)\n",
      "INFO:tensorflow:global_step/sec: 275.908\n",
      "INFO:tensorflow:loss = 0.16453117, step = 16479 (0.362 sec)\n",
      "INFO:tensorflow:global_step/sec: 275.522\n",
      "INFO:tensorflow:loss = 0.2620478, step = 16579 (0.363 sec)\n",
      "INFO:tensorflow:global_step/sec: 288.784\n",
      "INFO:tensorflow:loss = 0.13153945, step = 16679 (0.346 sec)\n",
      "INFO:tensorflow:global_step/sec: 282.704\n",
      "INFO:tensorflow:loss = 0.0992839, step = 16779 (0.354 sec)\n",
      "INFO:tensorflow:global_step/sec: 285.664\n",
      "INFO:tensorflow:loss = 0.25300983, step = 16879 (0.350 sec)\n",
      "INFO:tensorflow:global_step/sec: 275.06\n",
      "INFO:tensorflow:loss = 0.12292448, step = 16979 (0.363 sec)\n",
      "INFO:tensorflow:global_step/sec: 286.632\n",
      "INFO:tensorflow:loss = 0.12605049, step = 17079 (0.349 sec)\n",
      "INFO:tensorflow:global_step/sec: 286.886\n",
      "INFO:tensorflow:loss = 0.10473006, step = 17179 (0.348 sec)\n",
      "INFO:tensorflow:global_step/sec: 277.168\n",
      "INFO:tensorflow:loss = 0.14940971, step = 17279 (0.361 sec)\n",
      "INFO:tensorflow:global_step/sec: 288.244\n",
      "INFO:tensorflow:loss = 0.14095712, step = 17379 (0.347 sec)\n",
      "INFO:tensorflow:global_step/sec: 278.923\n",
      "INFO:tensorflow:loss = 0.1570496, step = 17479 (0.358 sec)\n",
      "INFO:tensorflow:global_step/sec: 275.422\n",
      "INFO:tensorflow:loss = 0.403166, step = 17579 (0.363 sec)\n",
      "INFO:tensorflow:global_step/sec: 293.748\n",
      "INFO:tensorflow:loss = 0.1750174, step = 17679 (0.340 sec)\n",
      "INFO:tensorflow:global_step/sec: 285.343\n",
      "INFO:tensorflow:loss = 0.13882646, step = 17779 (0.351 sec)\n",
      "INFO:tensorflow:global_step/sec: 276.134\n",
      "INFO:tensorflow:loss = 0.20309468, step = 17879 (0.362 sec)\n",
      "INFO:tensorflow:global_step/sec: 282.602\n",
      "INFO:tensorflow:loss = 0.22092983, step = 17979 (0.354 sec)\n",
      "INFO:tensorflow:global_step/sec: 278.356\n",
      "INFO:tensorflow:loss = 0.36138946, step = 18079 (0.359 sec)\n",
      "INFO:tensorflow:global_step/sec: 285.337\n",
      "INFO:tensorflow:loss = 0.13259555, step = 18179 (0.351 sec)\n",
      "INFO:tensorflow:global_step/sec: 284.182\n",
      "INFO:tensorflow:loss = 0.27320746, step = 18279 (0.352 sec)\n",
      "INFO:tensorflow:global_step/sec: 278.751\n",
      "INFO:tensorflow:loss = 0.19582349, step = 18379 (0.359 sec)\n",
      "INFO:tensorflow:global_step/sec: 280.331\n",
      "INFO:tensorflow:loss = 0.20511116, step = 18479 (0.357 sec)\n",
      "INFO:tensorflow:global_step/sec: 268.405\n",
      "INFO:tensorflow:loss = 0.14282122, step = 18579 (0.372 sec)\n",
      "INFO:tensorflow:global_step/sec: 272.025\n",
      "INFO:tensorflow:loss = 0.18872869, step = 18679 (0.368 sec)\n",
      "INFO:tensorflow:global_step/sec: 280.08\n",
      "INFO:tensorflow:loss = 0.11389366, step = 18779 (0.357 sec)\n",
      "INFO:tensorflow:global_step/sec: 287.431\n",
      "INFO:tensorflow:loss = 0.2644285, step = 18879 (0.348 sec)\n",
      "INFO:tensorflow:global_step/sec: 280.416\n",
      "INFO:tensorflow:loss = 0.27631703, step = 18979 (0.357 sec)\n",
      "INFO:tensorflow:global_step/sec: 271.041\n",
      "INFO:tensorflow:loss = 0.15983202, step = 19079 (0.369 sec)\n",
      "INFO:tensorflow:global_step/sec: 280.083\n",
      "INFO:tensorflow:loss = 0.12299415, step = 19179 (0.357 sec)\n",
      "INFO:tensorflow:global_step/sec: 264.166\n",
      "INFO:tensorflow:loss = 0.18703558, step = 19279 (0.378 sec)\n",
      "INFO:tensorflow:global_step/sec: 285.42\n",
      "INFO:tensorflow:loss = 0.25379872, step = 19379 (0.351 sec)\n",
      "INFO:tensorflow:global_step/sec: 268.866\n",
      "INFO:tensorflow:loss = 0.10171071, step = 19479 (0.372 sec)\n",
      "INFO:tensorflow:global_step/sec: 280.862\n",
      "INFO:tensorflow:loss = 0.18007998, step = 19579 (0.356 sec)\n",
      "INFO:tensorflow:global_step/sec: 274.022\n",
      "INFO:tensorflow:loss = 0.36948636, step = 19679 (0.365 sec)\n"
     ]
    },
    {
     "name": "stdout",
     "output_type": "stream",
     "text": [
      "INFO:tensorflow:global_step/sec: 273.442\n",
      "INFO:tensorflow:loss = 0.17956023, step = 19779 (0.365 sec)\n",
      "INFO:tensorflow:global_step/sec: 286.885\n",
      "INFO:tensorflow:loss = 0.121622294, step = 19879 (0.349 sec)\n",
      "INFO:tensorflow:global_step/sec: 285.156\n",
      "INFO:tensorflow:loss = 0.15339659, step = 19979 (0.351 sec)\n",
      "INFO:tensorflow:global_step/sec: 277.703\n",
      "INFO:tensorflow:loss = 0.18206245, step = 20079 (0.360 sec)\n",
      "INFO:tensorflow:global_step/sec: 290.167\n",
      "INFO:tensorflow:loss = 0.12274916, step = 20179 (0.344 sec)\n",
      "INFO:tensorflow:global_step/sec: 279.591\n",
      "INFO:tensorflow:loss = 0.35775542, step = 20279 (0.358 sec)\n",
      "INFO:tensorflow:global_step/sec: 295.765\n",
      "INFO:tensorflow:loss = 0.14778133, step = 20379 (0.338 sec)\n",
      "INFO:tensorflow:global_step/sec: 286.615\n",
      "INFO:tensorflow:loss = 0.3274662, step = 20479 (0.349 sec)\n",
      "INFO:tensorflow:global_step/sec: 266.382\n",
      "INFO:tensorflow:loss = 0.2143168, step = 20579 (0.375 sec)\n",
      "INFO:tensorflow:global_step/sec: 282.56\n",
      "INFO:tensorflow:loss = 0.18783432, step = 20679 (0.354 sec)\n",
      "INFO:tensorflow:global_step/sec: 294.676\n",
      "INFO:tensorflow:loss = 0.18536773, step = 20779 (0.339 sec)\n",
      "INFO:tensorflow:global_step/sec: 285.713\n",
      "INFO:tensorflow:loss = 0.113050655, step = 20879 (0.350 sec)\n",
      "INFO:tensorflow:global_step/sec: 288.421\n",
      "INFO:tensorflow:loss = 0.28801984, step = 20979 (0.347 sec)\n",
      "INFO:tensorflow:global_step/sec: 284.714\n",
      "INFO:tensorflow:loss = 0.17918588, step = 21079 (0.351 sec)\n",
      "INFO:tensorflow:global_step/sec: 298.964\n",
      "INFO:tensorflow:loss = 0.22487675, step = 21179 (0.334 sec)\n",
      "INFO:tensorflow:global_step/sec: 281.035\n",
      "INFO:tensorflow:loss = 0.18151882, step = 21279 (0.356 sec)\n",
      "INFO:tensorflow:global_step/sec: 279.58\n",
      "INFO:tensorflow:loss = 0.27148235, step = 21379 (0.358 sec)\n",
      "INFO:tensorflow:global_step/sec: 276.331\n",
      "INFO:tensorflow:loss = 0.11335265, step = 21479 (0.361 sec)\n",
      "INFO:tensorflow:global_step/sec: 281.841\n",
      "INFO:tensorflow:loss = 0.07769249, step = 21579 (0.355 sec)\n",
      "INFO:tensorflow:global_step/sec: 275.711\n",
      "INFO:tensorflow:loss = 0.114026316, step = 21679 (0.363 sec)\n",
      "INFO:tensorflow:global_step/sec: 280.919\n",
      "INFO:tensorflow:loss = 0.14858498, step = 21779 (0.356 sec)\n",
      "INFO:tensorflow:global_step/sec: 292.045\n",
      "INFO:tensorflow:loss = 0.15747492, step = 21879 (0.342 sec)\n",
      "INFO:tensorflow:global_step/sec: 281.917\n",
      "INFO:tensorflow:loss = 0.13804227, step = 21979 (0.355 sec)\n",
      "INFO:tensorflow:global_step/sec: 273.201\n",
      "INFO:tensorflow:loss = 0.24240138, step = 22079 (0.366 sec)\n",
      "INFO:tensorflow:global_step/sec: 277.904\n",
      "INFO:tensorflow:loss = 0.16970201, step = 22179 (0.360 sec)\n",
      "INFO:tensorflow:global_step/sec: 271.846\n",
      "INFO:tensorflow:loss = 0.16782452, step = 22279 (0.368 sec)\n",
      "INFO:tensorflow:global_step/sec: 259.212\n",
      "INFO:tensorflow:loss = 0.19449791, step = 22379 (0.386 sec)\n",
      "INFO:tensorflow:global_step/sec: 267.998\n",
      "INFO:tensorflow:loss = 0.14314699, step = 22479 (0.373 sec)\n",
      "INFO:tensorflow:global_step/sec: 270.895\n",
      "INFO:tensorflow:loss = 0.12891917, step = 22579 (0.369 sec)\n",
      "INFO:tensorflow:global_step/sec: 277.625\n",
      "INFO:tensorflow:loss = 0.2020934, step = 22679 (0.360 sec)\n",
      "INFO:tensorflow:global_step/sec: 291.218\n",
      "INFO:tensorflow:loss = 0.13769478, step = 22779 (0.343 sec)\n",
      "INFO:tensorflow:global_step/sec: 289.314\n",
      "INFO:tensorflow:loss = 0.1895241, step = 22879 (0.346 sec)\n",
      "INFO:tensorflow:global_step/sec: 287.125\n",
      "INFO:tensorflow:loss = 0.1135635, step = 22979 (0.348 sec)\n",
      "INFO:tensorflow:global_step/sec: 294.236\n",
      "INFO:tensorflow:loss = 0.39689514, step = 23079 (0.340 sec)\n",
      "INFO:tensorflow:global_step/sec: 283.81\n",
      "INFO:tensorflow:loss = 0.18385383, step = 23179 (0.352 sec)\n",
      "INFO:tensorflow:global_step/sec: 274.178\n",
      "INFO:tensorflow:loss = 0.15834542, step = 23279 (0.365 sec)\n",
      "INFO:tensorflow:global_step/sec: 286.183\n",
      "INFO:tensorflow:loss = 0.12595499, step = 23379 (0.349 sec)\n",
      "INFO:tensorflow:global_step/sec: 274.765\n",
      "INFO:tensorflow:loss = 0.16937283, step = 23479 (0.364 sec)\n",
      "INFO:tensorflow:global_step/sec: 280.849\n",
      "INFO:tensorflow:loss = 0.14133912, step = 23579 (0.356 sec)\n",
      "INFO:tensorflow:global_step/sec: 289.181\n",
      "INFO:tensorflow:loss = 0.13638338, step = 23679 (0.346 sec)\n",
      "INFO:tensorflow:global_step/sec: 299.538\n",
      "INFO:tensorflow:loss = 0.2525916, step = 23779 (0.334 sec)\n",
      "INFO:tensorflow:Saving checkpoints for 23792 into model_dir/model.ckpt.\n",
      "INFO:tensorflow:Loss for final step: 0.17171729.\n"
     ]
    },
    {
     "data": {
      "text/plain": [
       "<tensorflow.python.estimator.estimator.Estimator at 0x7f216c7f9f98>"
      ]
     },
     "execution_count": 8,
     "metadata": {},
     "output_type": "execute_result"
    }
   ],
   "source": [
    "# train estimator\n",
    "regressor.train(\n",
    "    input_fn=input_fn_train,\n",
    "    steps=None\n",
    ")"
   ]
  },
  {
   "cell_type": "markdown",
   "metadata": {},
   "source": [
    "# Evaluation"
   ]
  },
  {
   "cell_type": "code",
   "execution_count": 9,
   "metadata": {},
   "outputs": [
    {
     "name": "stdout",
     "output_type": "stream",
     "text": [
      "INFO:tensorflow:Calling model_fn.\n",
      "INFO:tensorflow:Done calling model_fn.\n",
      "INFO:tensorflow:Starting evaluation at 2019-02-22-13:12:05\n",
      "INFO:tensorflow:Graph was finalized.\n",
      "INFO:tensorflow:Restoring parameters from model_dir/model.ckpt-23792\n",
      "INFO:tensorflow:Running local_init_op.\n",
      "INFO:tensorflow:Done running local_init_op.\n",
      "INFO:tensorflow:Finished evaluation at 2019-02-22-13:13:03\n",
      "INFO:tensorflow:Saving dict for global step 23792: average_loss = 0.18916954, global_step = 23792, label/mean = 0.022441076, loss = 0.18916954, prediction/mean = 0.01291999\n",
      "INFO:tensorflow:Saving 'checkpoint_path' summary for global step 23792: model_dir/model.ckpt-23792\n",
      "{'average_loss': 0.18916954, 'label/mean': 0.022441076, 'loss': 0.18916954, 'prediction/mean': 0.01291999, 'global_step': 23792}\n"
     ]
    }
   ],
   "source": [
    "# evaluation input function\n",
    "input_fn_eval=tf.estimator.inputs.pandas_input_fn(\n",
    "        x=x_test,\n",
    "        y=y_test,\n",
    "        batch_size=1,\n",
    "        num_epochs=1,\n",
    "        shuffle=False\n",
    "    )\n",
    "\n",
    "# evaluate\n",
    "eval_result = regressor.evaluate(input_fn=input_fn_eval)\n",
    "print(eval_result)"
   ]
  },
  {
   "cell_type": "code",
   "execution_count": 10,
   "metadata": {},
   "outputs": [
    {
     "name": "stdout",
     "output_type": "stream",
     "text": [
      "{'average_loss': 0.18916954, 'label/mean': 0.022441076, 'loss': 0.18916954, 'prediction/mean': 0.01291999, 'global_step': 23792}\n"
     ]
    }
   ],
   "source": [
    "print(eval_result)"
   ]
  },
  {
   "cell_type": "markdown",
   "metadata": {},
   "source": [
    "# Export training result (trainable variables) in (item, c, d) table"
   ]
  },
  {
   "cell_type": "code",
   "execution_count": 11,
   "metadata": {},
   "outputs": [
    {
     "name": "stdout",
     "output_type": "stream",
     "text": [
      "INFO:tensorflow:Restoring parameters from model_dir/model.ckpt-23792\n"
     ]
    }
   ],
   "source": [
    "# construct and export coefficient table\n",
    "checkpoint = tf.train.get_checkpoint_state(checkpoint_dir=model_dir)\n",
    "\n",
    "with tf.Session() as sess:\n",
    "    saver = tf.train.import_meta_graph(checkpoint.model_checkpoint_path + '.meta')\n",
    "    saver.restore(sess, checkpoint.model_checkpoint_path)\n",
    "    tvs = sess.run(tf.trainable_variables())"
   ]
  },
  {
   "cell_type": "code",
   "execution_count": 12,
   "metadata": {},
   "outputs": [],
   "source": [
    "coeffs = np.reshape(tvs, [2, 704])\n",
    "\n",
    "# For each item,\n",
    "# v' = c + (1 + d) * v\n",
    "# where v' is the corrected value and v is the given tag value\n",
    "item_coeffs = pd.DataFrame({'item': list_items, 'c': coeffs[0, :], 'd': coeffs[1, :]})\n",
    "item_coeffs.to_csv('item_coeffs.csv', sep=',', index=False) "
   ]
  },
  {
   "cell_type": "code",
   "execution_count": 13,
   "metadata": {},
   "outputs": [
    {
     "name": "stdout",
     "output_type": "stream",
     "text": [
      "         item1  value1   item2  value2\n",
      "21436  capital    25.0  action    24.6\n"
     ]
    }
   ],
   "source": [
    "# check that the tf prediction matches the correction formula\n",
    "one_test = x_test[0:1] # subset only the first row in data frame format\n",
    "print(one_test)"
   ]
  },
  {
   "cell_type": "code",
   "execution_count": 14,
   "metadata": {},
   "outputs": [
    {
     "name": "stdout",
     "output_type": "stream",
     "text": [
      "INFO:tensorflow:Calling model_fn.\n",
      "INFO:tensorflow:Done calling model_fn.\n",
      "INFO:tensorflow:Graph was finalized.\n",
      "INFO:tensorflow:Restoring parameters from model_dir/model.ckpt-23792\n",
      "INFO:tensorflow:Running local_init_op.\n",
      "INFO:tensorflow:Done running local_init_op.\n",
      "[{'predictions': array([-0.25890255], dtype=float32)}]\n"
     ]
    }
   ],
   "source": [
    "# prediction input function\n",
    "input_fn_pred=tf.estimator.inputs.pandas_input_fn(\n",
    "        x=one_test,\n",
    "        batch_size=1,\n",
    "        num_epochs=1,\n",
    "        shuffle=False\n",
    "    )\n",
    "\n",
    "# prediction by tf model\n",
    "tf_pred = list(regressor.predict(input_fn=input_fn_pred))\n",
    "print(tf_pred)"
   ]
  },
  {
   "cell_type": "code",
   "execution_count": 15,
   "metadata": {},
   "outputs": [
    {
     "name": "stdout",
     "output_type": "stream",
     "text": [
      "-0.258902516961097\n"
     ]
    }
   ],
   "source": [
    "# extract coefficients and values for one_test\n",
    "coeffs1 = item_coeffs[item_coeffs.item==one_test.iloc[0]['item1']].iloc[0]\n",
    "c1 = coeffs1.c\n",
    "d1 = coeffs1.d\n",
    "v1 = one_test.iloc[0]['value1']\n",
    "coeffs2 = item_coeffs[item_coeffs.item==one_test.iloc[0]['item2']].iloc[0]\n",
    "c2 = coeffs2.c\n",
    "d2 = coeffs2.d\n",
    "v2 = one_test.iloc[0]['value2']\n",
    "\n",
    "# prediction by algebra\n",
    "cf_pred = (c1 + d1 * v1) - (c2 + d2 * v2)\n",
    "print(cf_pred) # this value should be the same as tf_pred"
   ]
  }
 ],
 "metadata": {
  "kernelspec": {
   "display_name": "Python 3",
   "language": "python",
   "name": "python3"
  },
  "language_info": {
   "codemirror_mode": {
    "name": "ipython",
    "version": 3
   },
   "file_extension": ".py",
   "mimetype": "text/x-python",
   "name": "python",
   "nbconvert_exporter": "python",
   "pygments_lexer": "ipython3",
   "version": "3.6.7"
  }
 },
 "nbformat": 4,
 "nbformat_minor": 2
}

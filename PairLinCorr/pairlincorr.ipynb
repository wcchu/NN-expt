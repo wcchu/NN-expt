{
 "cells": [
  {
   "cell_type": "code",
   "execution_count": 1,
   "metadata": {},
   "outputs": [],
   "source": [
    "import numpy as np\n",
    "import pandas as pd\n",
    "import tensorflow as tf\n",
    "import matplotlib.pyplot as plt\n",
    "from sklearn.model_selection import train_test_split"
   ]
  },
  {
   "cell_type": "markdown",
   "metadata": {},
   "source": [
    "# Prepare data"
   ]
  },
  {
   "cell_type": "code",
   "execution_count": 2,
   "metadata": {},
   "outputs": [
    {
     "name": "stdout",
     "output_type": "stream",
     "text": [
      "data size: 270351\n"
     ]
    }
   ],
   "source": [
    "# import\n",
    "data = pd.read_csv(\n",
    "    'input.csv', dtype={\n",
    "        'item1': str,\n",
    "        'value1': float,\n",
    "        'item2': str,\n",
    "        'value2': float\n",
    "    })\n",
    "print('data size: {}'.format(len(data)))\n",
    "\n",
    "data['shift'] = data['value2'] - data['value1']\n",
    "\n",
    "x = data[['item1', 'value1', 'item2', 'value2']]\n",
    "y = data['shift']"
   ]
  },
  {
   "cell_type": "code",
   "execution_count": 3,
   "metadata": {},
   "outputs": [],
   "source": [
    "# split training and test sets\n",
    "x_train, x_test, y_train, y_test = train_test_split(\n",
    "    x, y, test_size=0.2, random_state=1)"
   ]
  },
  {
   "cell_type": "markdown",
   "metadata": {},
   "source": [
    "# Define columns"
   ]
  },
  {
   "cell_type": "code",
   "execution_count": 4,
   "metadata": {},
   "outputs": [
    {
     "name": "stdout",
     "output_type": "stream",
     "text": [
      "number of unique items: 704\n"
     ]
    }
   ],
   "source": [
    "# count feature values\n",
    "list_items = x_train['item1'].append(x_train['item2']).drop_duplicates().tolist()\n",
    "n_items = len(list_items)\n",
    "print(\"number of unique items: {}\".format(n_items))\n",
    "\n",
    "# columns\n",
    "item1_col = tf.feature_column.indicator_column(\n",
    "    tf.feature_column.categorical_column_with_vocabulary_list(\n",
    "        'item1', vocabulary_list=list_items))\n",
    "value1_col = tf.feature_column.numeric_column('value1')\n",
    "item2_col = tf.feature_column.indicator_column(\n",
    "    tf.feature_column.categorical_column_with_vocabulary_list(\n",
    "        'item2', vocabulary_list=list_items))\n",
    "value2_col = tf.feature_column.numeric_column('value2')"
   ]
  },
  {
   "cell_type": "markdown",
   "metadata": {},
   "source": [
    "# Configure model"
   ]
  },
  {
   "cell_type": "code",
   "execution_count": 5,
   "metadata": {},
   "outputs": [],
   "source": [
    "# build input function\n",
    "input_fn_train=tf.estimator.inputs.pandas_input_fn(\n",
    "        x=x_train,\n",
    "        y=y_train,\n",
    "        batch_size=100,\n",
    "        num_epochs=3,\n",
    "        shuffle=True\n",
    "    )"
   ]
  },
  {
   "cell_type": "code",
   "execution_count": 6,
   "metadata": {},
   "outputs": [],
   "source": [
    "# build model function\n",
    "def model_fn(features, labels, mode, params):\n",
    "    input_layer = {\n",
    "        'item1': tf.feature_column.input_layer(features={'item1': features['item1']},\n",
    "                                               feature_columns=params['feature_columns'][0]),\n",
    "        'value1': tf.feature_column.input_layer(features={'value1': features['value1']},\n",
    "                                                feature_columns=params['feature_columns'][1]),\n",
    "        'item2': tf.feature_column.input_layer(features={'item2': features['item2']},\n",
    "                                               feature_columns=params['feature_columns'][2]),\n",
    "        'value2': tf.feature_column.input_layer(features={'value2': features['value2']},\n",
    "                                                feature_columns=params['feature_columns'][3])\n",
    "    }\n",
    "        \n",
    "    input_1 = tf.concat((input_layer['item1'],\n",
    "                         tf.multiply(tf.concat([input_layer['value1']]*n_items, axis=1),\n",
    "                                     input_layer['item1'])),\n",
    "                        axis=1)\n",
    "    input_2 = tf.concat((input_layer['item2'],\n",
    "                         tf.multiply(tf.concat([input_layer['value2']]*n_items, axis=1),\n",
    "                                     input_layer['item2'])),\n",
    "                        axis=1)\n",
    "    \n",
    "    subtracted = tf.subtract(input_1, input_2)\n",
    "    out = tf.layers.dense(\n",
    "        inputs=subtracted,\n",
    "        units=1,\n",
    "        use_bias=False,\n",
    "        kernel_initializer=None)\n",
    "\n",
    "    # define head\n",
    "    my_head = tf.contrib.estimator.regression_head(\n",
    "        label_dimension=1,\n",
    "        loss_fn=None  # custom loss, default: mean_squared_error\n",
    "    )\n",
    "\n",
    "    return my_head.create_estimator_spec(\n",
    "        features=features,\n",
    "        mode=mode,\n",
    "        labels=labels,\n",
    "        optimizer=tf.train.FtrlOptimizer(params['step_size']),\n",
    "        logits=out,\n",
    "    )"
   ]
  },
  {
   "cell_type": "code",
   "execution_count": 7,
   "metadata": {},
   "outputs": [
    {
     "name": "stdout",
     "output_type": "stream",
     "text": [
      "INFO:tensorflow:Using default config.\n",
      "INFO:tensorflow:Using config: {'_model_dir': 'model_dir/', '_tf_random_seed': None, '_save_summary_steps': 100, '_save_checkpoints_steps': None, '_save_checkpoints_secs': 600, '_session_config': allow_soft_placement: true\n",
      "graph_options {\n",
      "  rewrite_options {\n",
      "    meta_optimizer_iterations: ONE\n",
      "  }\n",
      "}\n",
      ", '_keep_checkpoint_max': 5, '_keep_checkpoint_every_n_hours': 10000, '_log_step_count_steps': 100, '_train_distribute': None, '_device_fn': None, '_protocol': None, '_eval_distribute': None, '_experimental_distribute': None, '_service': None, '_cluster_spec': <tensorflow.python.training.server_lib.ClusterSpec object at 0x7f08643c53c8>, '_task_type': 'worker', '_task_id': 0, '_global_id_in_cluster': 0, '_master': '', '_evaluation_master': '', '_is_chief': True, '_num_ps_replicas': 0, '_num_worker_replicas': 1}\n"
     ]
    }
   ],
   "source": [
    "# define dir to save model\n",
    "model_dir = 'model_dir/'\n",
    "\n",
    "# custom estimator\n",
    "regressor = tf.estimator.Estimator(\n",
    "    model_dir=model_dir,\n",
    "    model_fn=model_fn,\n",
    "    params={'feature_columns': [item1_col, value1_col, item2_col, value2_col],\n",
    "            'step_size': 0.1}\n",
    ")"
   ]
  },
  {
   "cell_type": "markdown",
   "metadata": {},
   "source": [
    "# Execute training"
   ]
  },
  {
   "cell_type": "code",
   "execution_count": 8,
   "metadata": {},
   "outputs": [
    {
     "name": "stdout",
     "output_type": "stream",
     "text": [
      "WARNING:tensorflow:From /home/wei-chun/.local/lib/python3.6/site-packages/tensorflow/python/estimator/inputs/queues/feeding_queue_runner.py:62: QueueRunner.__init__ (from tensorflow.python.training.queue_runner_impl) is deprecated and will be removed in a future version.\n",
      "Instructions for updating:\n",
      "To construct input pipelines, use the `tf.data` module.\n",
      "WARNING:tensorflow:From /home/wei-chun/.local/lib/python3.6/site-packages/tensorflow/python/estimator/inputs/queues/feeding_functions.py:500: add_queue_runner (from tensorflow.python.training.queue_runner_impl) is deprecated and will be removed in a future version.\n",
      "Instructions for updating:\n",
      "To construct input pipelines, use the `tf.data` module.\n",
      "INFO:tensorflow:Calling model_fn.\n",
      "INFO:tensorflow:Done calling model_fn.\n",
      "INFO:tensorflow:Create CheckpointSaverHook.\n",
      "INFO:tensorflow:Graph was finalized.\n",
      "INFO:tensorflow:Restoring parameters from model_dir/model.ckpt-6489\n",
      "INFO:tensorflow:Running local_init_op.\n",
      "INFO:tensorflow:Done running local_init_op.\n",
      "WARNING:tensorflow:From /home/wei-chun/.local/lib/python3.6/site-packages/tensorflow/python/training/monitored_session.py:804: start_queue_runners (from tensorflow.python.training.queue_runner_impl) is deprecated and will be removed in a future version.\n",
      "Instructions for updating:\n",
      "To construct input pipelines, use the `tf.data` module.\n",
      "INFO:tensorflow:Saving checkpoints for 6489 into model_dir/model.ckpt.\n",
      "INFO:tensorflow:loss = 0.16691412, step = 6490\n",
      "INFO:tensorflow:global_step/sec: 236.4\n",
      "INFO:tensorflow:loss = 0.3529042, step = 6590 (0.424 sec)\n",
      "INFO:tensorflow:global_step/sec: 292.804\n",
      "INFO:tensorflow:loss = 0.47089335, step = 6690 (0.341 sec)\n",
      "INFO:tensorflow:global_step/sec: 249.422\n",
      "INFO:tensorflow:loss = 0.12911823, step = 6790 (0.401 sec)\n",
      "INFO:tensorflow:global_step/sec: 278.012\n",
      "INFO:tensorflow:loss = 0.26670754, step = 6890 (0.360 sec)\n",
      "INFO:tensorflow:global_step/sec: 285.038\n",
      "INFO:tensorflow:loss = 0.3152731, step = 6990 (0.351 sec)\n",
      "INFO:tensorflow:global_step/sec: 281.624\n",
      "INFO:tensorflow:loss = 0.21973783, step = 7090 (0.355 sec)\n",
      "INFO:tensorflow:global_step/sec: 294.118\n",
      "INFO:tensorflow:loss = 0.19768366, step = 7190 (0.340 sec)\n",
      "INFO:tensorflow:global_step/sec: 283.647\n",
      "INFO:tensorflow:loss = 0.18344449, step = 7290 (0.353 sec)\n",
      "INFO:tensorflow:global_step/sec: 299.186\n",
      "INFO:tensorflow:loss = 0.32784176, step = 7390 (0.334 sec)\n",
      "INFO:tensorflow:global_step/sec: 284.988\n",
      "INFO:tensorflow:loss = 0.16290288, step = 7490 (0.351 sec)\n",
      "INFO:tensorflow:global_step/sec: 282.404\n",
      "INFO:tensorflow:loss = 0.42971036, step = 7590 (0.354 sec)\n",
      "INFO:tensorflow:global_step/sec: 284.356\n",
      "INFO:tensorflow:loss = 0.25667793, step = 7690 (0.351 sec)\n",
      "INFO:tensorflow:global_step/sec: 280.698\n",
      "INFO:tensorflow:loss = 0.25197026, step = 7790 (0.356 sec)\n",
      "INFO:tensorflow:global_step/sec: 280.368\n",
      "INFO:tensorflow:loss = 0.2572819, step = 7890 (0.357 sec)\n",
      "INFO:tensorflow:global_step/sec: 289.475\n",
      "INFO:tensorflow:loss = 0.18973747, step = 7990 (0.345 sec)\n",
      "INFO:tensorflow:global_step/sec: 281.334\n",
      "INFO:tensorflow:loss = 0.21810168, step = 8090 (0.356 sec)\n",
      "INFO:tensorflow:global_step/sec: 276.78\n",
      "INFO:tensorflow:loss = 0.31309062, step = 8190 (0.361 sec)\n",
      "INFO:tensorflow:global_step/sec: 257.071\n",
      "INFO:tensorflow:loss = 0.14639588, step = 8290 (0.390 sec)\n",
      "INFO:tensorflow:global_step/sec: 272.399\n",
      "INFO:tensorflow:loss = 0.2995106, step = 8390 (0.367 sec)\n",
      "INFO:tensorflow:global_step/sec: 272.125\n",
      "INFO:tensorflow:loss = 0.20187207, step = 8490 (0.367 sec)\n",
      "INFO:tensorflow:global_step/sec: 266.979\n",
      "INFO:tensorflow:loss = 0.40664327, step = 8590 (0.375 sec)\n",
      "INFO:tensorflow:global_step/sec: 263.279\n",
      "INFO:tensorflow:loss = 0.18768467, step = 8690 (0.380 sec)\n",
      "INFO:tensorflow:global_step/sec: 280.251\n",
      "INFO:tensorflow:loss = 0.21142522, step = 8790 (0.357 sec)\n",
      "INFO:tensorflow:global_step/sec: 290.294\n",
      "INFO:tensorflow:loss = 0.35709146, step = 8890 (0.344 sec)\n",
      "INFO:tensorflow:global_step/sec: 276.397\n",
      "INFO:tensorflow:loss = 0.30964366, step = 8990 (0.362 sec)\n",
      "INFO:tensorflow:global_step/sec: 274.986\n",
      "INFO:tensorflow:loss = 0.20813756, step = 9090 (0.364 sec)\n",
      "INFO:tensorflow:global_step/sec: 269.485\n",
      "INFO:tensorflow:loss = 0.15862705, step = 9190 (0.371 sec)\n",
      "INFO:tensorflow:global_step/sec: 268.32\n",
      "INFO:tensorflow:loss = 0.15922895, step = 9290 (0.373 sec)\n",
      "INFO:tensorflow:global_step/sec: 274.231\n",
      "INFO:tensorflow:loss = 0.16222805, step = 9390 (0.365 sec)\n",
      "INFO:tensorflow:global_step/sec: 280.891\n",
      "INFO:tensorflow:loss = 0.22353847, step = 9490 (0.356 sec)\n",
      "INFO:tensorflow:global_step/sec: 274.882\n",
      "INFO:tensorflow:loss = 0.24126709, step = 9590 (0.364 sec)\n",
      "INFO:tensorflow:global_step/sec: 280.674\n",
      "INFO:tensorflow:loss = 0.22124381, step = 9690 (0.356 sec)\n",
      "INFO:tensorflow:global_step/sec: 276.321\n",
      "INFO:tensorflow:loss = 0.14754336, step = 9790 (0.362 sec)\n",
      "INFO:tensorflow:global_step/sec: 270.951\n",
      "INFO:tensorflow:loss = 0.27193102, step = 9890 (0.369 sec)\n",
      "INFO:tensorflow:global_step/sec: 275.947\n",
      "INFO:tensorflow:loss = 0.24657163, step = 9990 (0.362 sec)\n",
      "INFO:tensorflow:global_step/sec: 278.587\n",
      "INFO:tensorflow:loss = 0.46264866, step = 10090 (0.359 sec)\n",
      "INFO:tensorflow:global_step/sec: 280.488\n",
      "INFO:tensorflow:loss = 0.22196554, step = 10190 (0.356 sec)\n",
      "INFO:tensorflow:global_step/sec: 276.895\n",
      "INFO:tensorflow:loss = 0.21976504, step = 10290 (0.361 sec)\n",
      "INFO:tensorflow:global_step/sec: 283.687\n",
      "INFO:tensorflow:loss = 0.23901406, step = 10390 (0.353 sec)\n",
      "INFO:tensorflow:global_step/sec: 277.016\n",
      "INFO:tensorflow:loss = 0.38566858, step = 10490 (0.361 sec)\n",
      "INFO:tensorflow:global_step/sec: 273.834\n",
      "INFO:tensorflow:loss = 0.32030547, step = 10590 (0.365 sec)\n",
      "INFO:tensorflow:global_step/sec: 290.033\n",
      "INFO:tensorflow:loss = 0.18750755, step = 10690 (0.345 sec)\n",
      "INFO:tensorflow:global_step/sec: 286.458\n",
      "INFO:tensorflow:loss = 0.31481797, step = 10790 (0.349 sec)\n",
      "INFO:tensorflow:global_step/sec: 284.041\n",
      "INFO:tensorflow:loss = 0.32342365, step = 10890 (0.352 sec)\n",
      "INFO:tensorflow:global_step/sec: 277.998\n",
      "INFO:tensorflow:loss = 0.21396105, step = 10990 (0.360 sec)\n",
      "INFO:tensorflow:global_step/sec: 275.331\n",
      "INFO:tensorflow:loss = 0.28694817, step = 11090 (0.363 sec)\n",
      "INFO:tensorflow:global_step/sec: 279.768\n",
      "INFO:tensorflow:loss = 0.16309856, step = 11190 (0.357 sec)\n",
      "INFO:tensorflow:global_step/sec: 275.252\n",
      "INFO:tensorflow:loss = 0.09338904, step = 11290 (0.363 sec)\n",
      "INFO:tensorflow:global_step/sec: 273.741\n",
      "INFO:tensorflow:loss = 0.16548946, step = 11390 (0.365 sec)\n",
      "INFO:tensorflow:global_step/sec: 273.429\n",
      "INFO:tensorflow:loss = 0.26458347, step = 11490 (0.366 sec)\n",
      "INFO:tensorflow:global_step/sec: 276.589\n",
      "INFO:tensorflow:loss = 0.27785903, step = 11590 (0.361 sec)\n",
      "INFO:tensorflow:global_step/sec: 278.074\n",
      "INFO:tensorflow:loss = 0.24677481, step = 11690 (0.360 sec)\n",
      "INFO:tensorflow:global_step/sec: 277.273\n",
      "INFO:tensorflow:loss = 0.18358128, step = 11790 (0.360 sec)\n",
      "INFO:tensorflow:global_step/sec: 287.14\n",
      "INFO:tensorflow:loss = 0.1528532, step = 11890 (0.348 sec)\n",
      "INFO:tensorflow:global_step/sec: 283.662\n",
      "INFO:tensorflow:loss = 0.15449901, step = 11990 (0.352 sec)\n",
      "INFO:tensorflow:global_step/sec: 276.629\n",
      "INFO:tensorflow:loss = 0.23355284, step = 12090 (0.361 sec)\n",
      "INFO:tensorflow:global_step/sec: 288.462\n",
      "INFO:tensorflow:loss = 0.21343452, step = 12190 (0.347 sec)\n",
      "INFO:tensorflow:global_step/sec: 281.184\n",
      "INFO:tensorflow:loss = 0.18200423, step = 12290 (0.356 sec)\n",
      "INFO:tensorflow:global_step/sec: 284.025\n",
      "INFO:tensorflow:loss = 0.2001037, step = 12390 (0.352 sec)\n",
      "INFO:tensorflow:global_step/sec: 288.199\n",
      "INFO:tensorflow:loss = 0.26882276, step = 12490 (0.347 sec)\n",
      "INFO:tensorflow:global_step/sec: 299.643\n",
      "INFO:tensorflow:loss = 0.14734352, step = 12590 (0.334 sec)\n",
      "INFO:tensorflow:global_step/sec: 282.605\n",
      "INFO:tensorflow:loss = 0.16103268, step = 12690 (0.353 sec)\n",
      "INFO:tensorflow:global_step/sec: 280.741\n",
      "INFO:tensorflow:loss = 0.18023339, step = 12790 (0.356 sec)\n",
      "INFO:tensorflow:global_step/sec: 296.119\n",
      "INFO:tensorflow:loss = 0.35556653, step = 12890 (0.338 sec)\n",
      "INFO:tensorflow:Saving checkpoints for 12978 into model_dir/model.ckpt.\n",
      "INFO:tensorflow:Loss for final step: 0.45773077.\n"
     ]
    },
    {
     "data": {
      "text/plain": [
       "<tensorflow.python.estimator.estimator.Estimator at 0x7f0864158dd8>"
      ]
     },
     "execution_count": 8,
     "metadata": {},
     "output_type": "execute_result"
    }
   ],
   "source": [
    "# train estimator\n",
    "regressor.train(\n",
    "    input_fn=input_fn_train,\n",
    "    steps=None\n",
    ")"
   ]
  },
  {
   "cell_type": "markdown",
   "metadata": {},
   "source": [
    "# Evaluation"
   ]
  },
  {
   "cell_type": "code",
   "execution_count": 9,
   "metadata": {},
   "outputs": [
    {
     "name": "stdout",
     "output_type": "stream",
     "text": [
      "INFO:tensorflow:Calling model_fn.\n",
      "INFO:tensorflow:Done calling model_fn.\n",
      "INFO:tensorflow:Starting evaluation at 2019-02-22-12:09:17\n",
      "INFO:tensorflow:Graph was finalized.\n",
      "INFO:tensorflow:Restoring parameters from model_dir/model.ckpt-12978\n",
      "INFO:tensorflow:Running local_init_op.\n",
      "INFO:tensorflow:Done running local_init_op.\n",
      "INFO:tensorflow:Finished evaluation at 2019-02-22-12:10:14\n",
      "INFO:tensorflow:Saving dict for global step 12978: average_loss = 0.22887959, global_step = 12978, label/mean = 0.022441076, loss = 0.22887959, prediction/mean = 0.010526055\n",
      "INFO:tensorflow:Saving 'checkpoint_path' summary for global step 12978: model_dir/model.ckpt-12978\n",
      "{'average_loss': 0.22887959, 'label/mean': 0.022441076, 'loss': 0.22887959, 'prediction/mean': 0.010526055, 'global_step': 12978}\n"
     ]
    }
   ],
   "source": [
    "# evaluation input function\n",
    "input_fn_eval=tf.estimator.inputs.pandas_input_fn(\n",
    "        x=x_test,\n",
    "        y=y_test,\n",
    "        batch_size=1,\n",
    "        num_epochs=1,\n",
    "        shuffle=False\n",
    "    )\n",
    "\n",
    "# evaluate\n",
    "eval_result = regressor.evaluate(input_fn=input_fn_eval)\n",
    "print(eval_result)"
   ]
  },
  {
   "cell_type": "code",
   "execution_count": 10,
   "metadata": {},
   "outputs": [
    {
     "name": "stdout",
     "output_type": "stream",
     "text": [
      "{'average_loss': 0.22887959, 'label/mean': 0.022441076, 'loss': 0.22887959, 'prediction/mean': 0.010526055, 'global_step': 12978}\n"
     ]
    }
   ],
   "source": [
    "print(eval_result)"
   ]
  },
  {
   "cell_type": "markdown",
   "metadata": {},
   "source": [
    "# Export training result (trainable variables) in (item, c, d) table"
   ]
  },
  {
   "cell_type": "code",
   "execution_count": 11,
   "metadata": {},
   "outputs": [
    {
     "name": "stdout",
     "output_type": "stream",
     "text": [
      "INFO:tensorflow:Restoring parameters from model_dir/model.ckpt-12978\n"
     ]
    }
   ],
   "source": [
    "# construct and export coefficient table\n",
    "checkpoint = tf.train.get_checkpoint_state(checkpoint_dir=model_dir)\n",
    "\n",
    "with tf.Session() as sess:\n",
    "    saver = tf.train.import_meta_graph(checkpoint.model_checkpoint_path + '.meta')\n",
    "    saver.restore(sess, checkpoint.model_checkpoint_path)\n",
    "    tvs = sess.run(tf.trainable_variables())"
   ]
  },
  {
   "cell_type": "code",
   "execution_count": 12,
   "metadata": {},
   "outputs": [],
   "source": [
    "coeffs = np.reshape(tvs, [2, 704])\n",
    "\n",
    "# For each item,\n",
    "# v' = c + (1 + d) * v\n",
    "# where v' is the corrected value and v is the given tag value\n",
    "item_coeffs = pd.DataFrame({'item': list_items, 'c': coeffs[0, :], 'd': coeffs[1, :]})\n",
    "item_coeffs.to_csv('item_coeffs.csv', sep=',', index=False) "
   ]
  },
  {
   "cell_type": "code",
   "execution_count": 13,
   "metadata": {},
   "outputs": [
    {
     "name": "stdout",
     "output_type": "stream",
     "text": [
      "         item1  value1   item2  value2\n",
      "21436  capital    25.0  action    24.6\n"
     ]
    }
   ],
   "source": [
    "# check that the tf prediction matches the correction formula\n",
    "one_test = x_test[0:1] # subset only the first row in data frame format\n",
    "print(one_test)"
   ]
  },
  {
   "cell_type": "code",
   "execution_count": 14,
   "metadata": {},
   "outputs": [
    {
     "name": "stdout",
     "output_type": "stream",
     "text": [
      "INFO:tensorflow:Calling model_fn.\n",
      "INFO:tensorflow:Done calling model_fn.\n",
      "INFO:tensorflow:Graph was finalized.\n",
      "INFO:tensorflow:Restoring parameters from model_dir/model.ckpt-12978\n",
      "INFO:tensorflow:Running local_init_op.\n",
      "INFO:tensorflow:Done running local_init_op.\n",
      "[{'predictions': array([-0.34156036], dtype=float32)}]\n"
     ]
    }
   ],
   "source": [
    "# prediction input function\n",
    "input_fn_pred=tf.estimator.inputs.pandas_input_fn(\n",
    "        x=one_test,\n",
    "        batch_size=1,\n",
    "        num_epochs=1,\n",
    "        shuffle=False\n",
    "    )\n",
    "\n",
    "# prediction by tf model\n",
    "tf_pred = list(regressor.predict(input_fn=input_fn_pred))\n",
    "print(tf_pred)"
   ]
  },
  {
   "cell_type": "code",
   "execution_count": 15,
   "metadata": {},
   "outputs": [
    {
     "name": "stdout",
     "output_type": "stream",
     "text": [
      "-0.3415607251226902\n"
     ]
    }
   ],
   "source": [
    "# extract coefficients and values for one_test\n",
    "coeffs1 = item_coeffs[item_coeffs.item==one_test.iloc[0]['item1']].iloc[0]\n",
    "c1 = coeffs1.c\n",
    "d1 = coeffs1.d\n",
    "v1 = one_test.iloc[0]['value1']\n",
    "coeffs2 = item_coeffs[item_coeffs.item==one_test.iloc[0]['item2']].iloc[0]\n",
    "c2 = coeffs2.c\n",
    "d2 = coeffs2.d\n",
    "v2 = one_test.iloc[0]['value2']\n",
    "\n",
    "# prediction by algebra\n",
    "cf_pred = (c1 + d1 * v1) - (c2 + d2 * v2)\n",
    "print(cf_pred) # this value should be the same as tf_pred"
   ]
  }
 ],
 "metadata": {
  "kernelspec": {
   "display_name": "Python 3",
   "language": "python",
   "name": "python3"
  },
  "language_info": {
   "codemirror_mode": {
    "name": "ipython",
    "version": 3
   },
   "file_extension": ".py",
   "mimetype": "text/x-python",
   "name": "python",
   "nbconvert_exporter": "python",
   "pygments_lexer": "ipython3",
   "version": "3.6.7"
  }
 },
 "nbformat": 4,
 "nbformat_minor": 2
}

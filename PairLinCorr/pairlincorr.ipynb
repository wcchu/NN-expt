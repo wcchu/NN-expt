{
 "cells": [
  {
   "cell_type": "code",
   "execution_count": null,
   "metadata": {},
   "outputs": [],
   "source": [
    "import numpy as np\n",
    "import pandas as pd\n",
    "import tensorflow as tf\n",
    "import matplotlib.pyplot as plt\n",
    "from sklearn.model_selection import train_test_split"
   ]
  },
  {
   "cell_type": "markdown",
   "metadata": {},
   "source": [
    "# Prepare data"
   ]
  },
  {
   "cell_type": "code",
   "execution_count": null,
   "metadata": {},
   "outputs": [],
   "source": [
    "# import\n",
    "data = pd.read_csv(\n",
    "    'input.csv', dtype={\n",
    "        'item1': str,\n",
    "        'value1': float,\n",
    "        'item2': str,\n",
    "        'value2': float\n",
    "    })\n",
    "print('data size: {}'.format(len(data)))\n",
    "\n",
    "data['shift'] = data['value2'] - data['value1']\n",
    "\n",
    "x = data[['item1', 'value1', 'item2', 'value2']]\n",
    "y = data['shift']"
   ]
  },
  {
   "cell_type": "code",
   "execution_count": null,
   "metadata": {},
   "outputs": [],
   "source": [
    "# split training and test sets\n",
    "x_train, x_test, y_train, y_test = train_test_split(\n",
    "    x, y, test_size=0.2, random_state=1)"
   ]
  },
  {
   "cell_type": "markdown",
   "metadata": {},
   "source": [
    "# Define columns"
   ]
  },
  {
   "cell_type": "code",
   "execution_count": null,
   "metadata": {},
   "outputs": [],
   "source": [
    "# count feature values\n",
    "list_items = x_train['item1'].append(x_train['item2']).drop_duplicates().tolist()\n",
    "n_items = len(list_items)\n",
    "print(\"number of unique items: {}\".format(n_items))\n",
    "\n",
    "# columns\n",
    "item1_col = tf.feature_column.indicator_column(\n",
    "    tf.feature_column.categorical_column_with_vocabulary_list(\n",
    "        'item1', vocabulary_list=list_items))\n",
    "value1_col = tf.feature_column.numeric_column('value1')\n",
    "item2_col = tf.feature_column.indicator_column(\n",
    "    tf.feature_column.categorical_column_with_vocabulary_list(\n",
    "        'item2', vocabulary_list=list_items))\n",
    "value2_col = tf.feature_column.numeric_column('value2')"
   ]
  },
  {
   "cell_type": "markdown",
   "metadata": {},
   "source": [
    "# Configure model"
   ]
  },
  {
   "cell_type": "code",
   "execution_count": null,
   "metadata": {},
   "outputs": [],
   "source": [
    "# build input function\n",
    "input_fn_train=tf.estimator.inputs.pandas_input_fn(\n",
    "        x=x_train,\n",
    "        y=y_train,\n",
    "        batch_size=100,\n",
    "        num_epochs=5,\n",
    "        shuffle=True\n",
    "    )"
   ]
  },
  {
   "cell_type": "code",
   "execution_count": null,
   "metadata": {},
   "outputs": [],
   "source": [
    "# build model function\n",
    "def model_fn(features, labels, mode, params):\n",
    "    input_layer = {\n",
    "        'item1': tf.feature_column.input_layer(features={'item1': features['item1']},\n",
    "                                               feature_columns=params['feature_columns'][0]),\n",
    "        'value1': tf.feature_column.input_layer(features={'value1': features['value1']},\n",
    "                                                feature_columns=params['feature_columns'][1]),\n",
    "        'item2': tf.feature_column.input_layer(features={'item2': features['item2']},\n",
    "                                               feature_columns=params['feature_columns'][2]),\n",
    "        'value2': tf.feature_column.input_layer(features={'value2': features['value2']},\n",
    "                                                feature_columns=params['feature_columns'][3])\n",
    "    }\n",
    "        \n",
    "    input_1 = tf.concat((input_layer['item1'],\n",
    "                         tf.multiply(tf.concat([input_layer['value1']]*n_items, axis=1),\n",
    "                                     input_layer['item1'])),\n",
    "                        axis=1)\n",
    "    input_2 = tf.concat((input_layer['item2'],\n",
    "                         tf.multiply(tf.concat([input_layer['value2']]*n_items, axis=1),\n",
    "                                     input_layer['item2'])),\n",
    "                        axis=1)\n",
    "    \n",
    "    subtracted = tf.subtract(input_1, input_2)\n",
    "    out = tf.layers.dense(\n",
    "        inputs=subtracted,\n",
    "        units=1,\n",
    "        use_bias=False,\n",
    "        kernel_initializer=None)\n",
    "\n",
    "    # define head\n",
    "    my_head = tf.contrib.estimator.regression_head(\n",
    "        label_dimension=1,\n",
    "        loss_fn=None  # custom loss, default: mean_squared_error\n",
    "    )\n",
    "\n",
    "    return my_head.create_estimator_spec(\n",
    "        features=features,\n",
    "        mode=mode,\n",
    "        labels=labels,\n",
    "        optimizer=tf.train.FtrlOptimizer(params['step_size']),\n",
    "        logits=out,\n",
    "    )"
   ]
  },
  {
   "cell_type": "code",
   "execution_count": null,
   "metadata": {},
   "outputs": [],
   "source": [
    "# define dir to save model\n",
    "model_dir = 'model_dir/'\n",
    "\n",
    "# custom estimator\n",
    "regressor = tf.estimator.Estimator(\n",
    "    model_dir=model_dir,\n",
    "    model_fn=model_fn,\n",
    "    params={'feature_columns': [item1_col, value1_col, item2_col, value2_col],\n",
    "            'step_size': 0.1}\n",
    ")"
   ]
  },
  {
   "cell_type": "markdown",
   "metadata": {},
   "source": [
    "# Execute training"
   ]
  },
  {
   "cell_type": "code",
   "execution_count": null,
   "metadata": {},
   "outputs": [],
   "source": [
    "# train estimator\n",
    "regressor.train(\n",
    "    input_fn=input_fn_train,\n",
    "    steps=None\n",
    ")"
   ]
  },
  {
   "cell_type": "markdown",
   "metadata": {},
   "source": [
    "# Evaluation"
   ]
  },
  {
   "cell_type": "code",
   "execution_count": null,
   "metadata": {},
   "outputs": [],
   "source": [
    "# evaluation input function\n",
    "input_fn_eval=tf.estimator.inputs.pandas_input_fn(\n",
    "        x=x_test,\n",
    "        y=y_test,\n",
    "        batch_size=1,\n",
    "        num_epochs=1,\n",
    "        shuffle=False\n",
    "    )\n",
    "\n",
    "# evaluate\n",
    "eval_result = regressor.evaluate(input_fn=input_fn_eval)\n",
    "print(eval_result)"
   ]
  },
  {
   "cell_type": "code",
   "execution_count": null,
   "metadata": {},
   "outputs": [],
   "source": [
    "print(eval_result)"
   ]
  },
  {
   "cell_type": "markdown",
   "metadata": {},
   "source": [
    "# Export training result (trainable variables) in (item, c, d) table"
   ]
  },
  {
   "cell_type": "code",
   "execution_count": null,
   "metadata": {},
   "outputs": [],
   "source": [
    "# construct and export coefficient table\n",
    "checkpoint = tf.train.get_checkpoint_state(checkpoint_dir=model_dir)\n",
    "\n",
    "with tf.Session() as sess:\n",
    "    saver = tf.train.import_meta_graph(checkpoint.model_checkpoint_path + '.meta')\n",
    "    saver.restore(sess, checkpoint.model_checkpoint_path)\n",
    "    tvs = sess.run(tf.trainable_variables())"
   ]
  },
  {
   "cell_type": "code",
   "execution_count": null,
   "metadata": {},
   "outputs": [],
   "source": [
    "coeffs = np.reshape(tvs, [2, 704])\n",
    "\n",
    "# For each item,\n",
    "# v' = c + (1 + d) * v\n",
    "# where v' is the corrected value and v is the given tag value\n",
    "item_coeffs = pd.DataFrame({'item': list_items, 'c': coeffs[0, :], 'd': coeffs[1, :]})\n",
    "item_coeffs.to_csv('item_coeffs.csv', sep=',', index=False) "
   ]
  },
  {
   "cell_type": "code",
   "execution_count": null,
   "metadata": {},
   "outputs": [],
   "source": [
    "# check that the tf prediction matches the correction formula\n",
    "one_test = x_test[0:1] # subset only the first row in data frame format\n",
    "print(one_test)"
   ]
  },
  {
   "cell_type": "code",
   "execution_count": null,
   "metadata": {},
   "outputs": [],
   "source": [
    "# prediction input function\n",
    "input_fn_pred=tf.estimator.inputs.pandas_input_fn(\n",
    "        x=one_test,\n",
    "        batch_size=1,\n",
    "        num_epochs=1,\n",
    "        shuffle=False\n",
    "    )\n",
    "\n",
    "# prediction by tf model\n",
    "tf_pred = list(regressor.predict(input_fn=input_fn_pred))\n",
    "print(tf_pred)"
   ]
  },
  {
   "cell_type": "code",
   "execution_count": null,
   "metadata": {},
   "outputs": [],
   "source": [
    "# extract coefficients and values for one_test\n",
    "coeffs1 = item_coeffs[item_coeffs.item==one_test.iloc[0]['item1']].iloc[0]\n",
    "c1 = coeffs1.c\n",
    "d1 = coeffs1.d\n",
    "v1 = one_test.iloc[0]['value1']\n",
    "coeffs2 = item_coeffs[item_coeffs.item==one_test.iloc[0]['item2']].iloc[0]\n",
    "c2 = coeffs2.c\n",
    "d2 = coeffs2.d\n",
    "v2 = one_test.iloc[0]['value2']\n",
    "\n",
    "# prediction by algebra\n",
    "cf_pred = (c1 + d1 * v1) - (c2 + d2 * v2)\n",
    "print(cf_pred) # this value should be the same as tf_pred"
   ]
  }
 ],
 "metadata": {
  "kernelspec": {
   "display_name": "Python 2",
   "language": "python",
   "name": "python2"
  },
  "language_info": {
   "codemirror_mode": {
    "name": "ipython",
    "version": 2
   },
   "file_extension": ".py",
   "mimetype": "text/x-python",
   "name": "python",
   "nbconvert_exporter": "python",
   "pygments_lexer": "ipython2",
   "version": "2.7.16"
  }
 },
 "nbformat": 4,
 "nbformat_minor": 2
}

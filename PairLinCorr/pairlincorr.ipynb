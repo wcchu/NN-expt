{
 "cells": [
  {
   "cell_type": "code",
   "execution_count": 1,
   "metadata": {},
   "outputs": [],
   "source": [
    "import numpy as np\n",
    "import pandas as pd\n",
    "import tensorflow as tf\n",
    "import matplotlib.pyplot as plt"
   ]
  },
  {
   "cell_type": "code",
   "execution_count": 2,
   "metadata": {},
   "outputs": [
    {
     "name": "stdout",
     "output_type": "stream",
     "text": [
      "data size: 270351\n"
     ]
    }
   ],
   "source": [
    "# import\n",
    "data = pd.read_csv(\n",
    "    'input.csv', dtype={\n",
    "        'item1': str,\n",
    "        'value1': float,\n",
    "        'item2': str,\n",
    "        'value2': float\n",
    "    })\n",
    "print('data size: {}'.format(len(data)))\n",
    "\n",
    "# after correction on both sides, the difference is zero\n",
    "data['zero'] = 0\n",
    "\n",
    "x = data[['item1', 'value1', 'item2', 'value2']]\n",
    "y = data['zero']"
   ]
  },
  {
   "cell_type": "code",
   "execution_count": 3,
   "metadata": {},
   "outputs": [
    {
     "name": "stdout",
     "output_type": "stream",
     "text": [
      "number of unique items: 710\n"
     ]
    }
   ],
   "source": [
    "# count feature values\n",
    "list_items = x['item1'].append(x['item2']).drop_duplicates().tolist()\n",
    "n_items = len(list_items)\n",
    "print(\"number of unique items: {}\".format(n_items))\n",
    "\n",
    "# columns\n",
    "item1_col = tf.feature_column.indicator_column(\n",
    "    tf.feature_column.categorical_column_with_vocabulary_list(\n",
    "        'item1', vocabulary_list=list_items))\n",
    "value1_col = tf.feature_column.numeric_column('value1')\n",
    "item2_col = tf.feature_column.indicator_column(\n",
    "    tf.feature_column.categorical_column_with_vocabulary_list(\n",
    "        'item2', vocabulary_list=list_items))\n",
    "value2_col = tf.feature_column.numeric_column('value2')\n",
    "zero_col = tf.feature_column.numeric_column('zero')"
   ]
  },
  {
   "cell_type": "code",
   "execution_count": 4,
   "metadata": {},
   "outputs": [],
   "source": [
    "# build input function\n",
    "input_fn_train=tf.estimator.inputs.pandas_input_fn(\n",
    "        x=x,\n",
    "        y=y,\n",
    "        batch_size=100,\n",
    "        num_epochs=1,\n",
    "        shuffle=True\n",
    "    )"
   ]
  },
  {
   "cell_type": "code",
   "execution_count": 5,
   "metadata": {},
   "outputs": [],
   "source": [
    "# build model function\n",
    "def model_fn(features, labels, mode, params):\n",
    "    input_layer = {\n",
    "        'item1': tf.feature_column.input_layer(features={'item1': features['item1']},\n",
    "                                               feature_columns=params['feature_columns'][0]),\n",
    "        'value1': tf.feature_column.input_layer(features={'value1': features['value1']},\n",
    "                                                feature_columns=params['feature_columns'][1]),\n",
    "        'item2': tf.feature_column.input_layer(features={'item2': features['item2']},\n",
    "                                               feature_columns=params['feature_columns'][2]),\n",
    "        'value2': tf.feature_column.input_layer(features={'value2': features['value2']},\n",
    "                                                feature_columns=params['feature_columns'][3])\n",
    "    }\n",
    "        \n",
    "    input_1 = tf.concat((input_layer['item1'],\n",
    "                         tf.matmul(tf.reshape(input_layer['value1'], shape=[1, n_items]),\n",
    "                                   input_layer['item1'])),\n",
    "                        axis=1)\n",
    "    input_2 = tf.concat((input_layer['item2'],\n",
    "                         tf.matmul(tf.reshape(input_layer['value2'], shape=[1, n_items]),\n",
    "                                   input_layer['item2'])),\n",
    "                        axis=1)\n",
    "    \n",
    "    #subtracted = tf.subtract(input_1, input_2)\n",
    "    subtracted = tf.subtract(input_layer['item1'], input_layer['item2'])\n",
    "    out = tf.layers.dense(\n",
    "        inputs=subtracted,\n",
    "        units=1,\n",
    "        use_bias=False,\n",
    "        kernel_initializer=None)\n",
    "\n",
    "    # define head\n",
    "    my_head = tf.contrib.estimator.regression_head(\n",
    "        label_dimension=1,\n",
    "        loss_fn=None  # custom loss, default: mean_squared_error\n",
    "    )\n",
    "\n",
    "    return my_head.create_estimator_spec(\n",
    "        features=features,\n",
    "        mode=mode,\n",
    "        labels=labels,\n",
    "        optimizer=tf.train.FtrlOptimizer(params['step_size']),\n",
    "        logits=out,\n",
    "    )"
   ]
  },
  {
   "cell_type": "code",
   "execution_count": 6,
   "metadata": {},
   "outputs": [
    {
     "name": "stdout",
     "output_type": "stream",
     "text": [
      "INFO:tensorflow:Using default config.\n",
      "WARNING:tensorflow:Using temporary folder as model directory: /tmp/tmpwg4__zap\n",
      "INFO:tensorflow:Using config: {'_model_dir': '/tmp/tmpwg4__zap', '_tf_random_seed': None, '_save_summary_steps': 100, '_save_checkpoints_steps': None, '_save_checkpoints_secs': 600, '_session_config': allow_soft_placement: true\n",
      "graph_options {\n",
      "  rewrite_options {\n",
      "    meta_optimizer_iterations: ONE\n",
      "  }\n",
      "}\n",
      ", '_keep_checkpoint_max': 5, '_keep_checkpoint_every_n_hours': 10000, '_log_step_count_steps': 100, '_train_distribute': None, '_device_fn': None, '_protocol': None, '_eval_distribute': None, '_experimental_distribute': None, '_service': None, '_cluster_spec': <tensorflow.python.training.server_lib.ClusterSpec object at 0x7eff4df4de80>, '_task_type': 'worker', '_task_id': 0, '_global_id_in_cluster': 0, '_master': '', '_evaluation_master': '', '_is_chief': True, '_num_ps_replicas': 0, '_num_worker_replicas': 1}\n"
     ]
    }
   ],
   "source": [
    "# custom estimator\n",
    "regressor = tf.estimator.Estimator(\n",
    "    model_fn=model_fn,\n",
    "    params={'feature_columns': [item1_col, value1_col, item2_col, value2_col],\n",
    "            'step_size': 0.2}\n",
    ")"
   ]
  },
  {
   "cell_type": "code",
   "execution_count": 7,
   "metadata": {},
   "outputs": [
    {
     "name": "stdout",
     "output_type": "stream",
     "text": [
      "WARNING:tensorflow:From /home/wei-chun/.local/lib/python3.6/site-packages/tensorflow/python/estimator/inputs/queues/feeding_queue_runner.py:62: QueueRunner.__init__ (from tensorflow.python.training.queue_runner_impl) is deprecated and will be removed in a future version.\n",
      "Instructions for updating:\n",
      "To construct input pipelines, use the `tf.data` module.\n",
      "WARNING:tensorflow:From /home/wei-chun/.local/lib/python3.6/site-packages/tensorflow/python/estimator/inputs/queues/feeding_functions.py:500: add_queue_runner (from tensorflow.python.training.queue_runner_impl) is deprecated and will be removed in a future version.\n",
      "Instructions for updating:\n",
      "To construct input pipelines, use the `tf.data` module.\n",
      "INFO:tensorflow:Calling model_fn.\n",
      "INFO:tensorflow:Done calling model_fn.\n",
      "INFO:tensorflow:Create CheckpointSaverHook.\n",
      "INFO:tensorflow:Graph was finalized.\n",
      "INFO:tensorflow:Running local_init_op.\n",
      "INFO:tensorflow:Done running local_init_op.\n",
      "WARNING:tensorflow:From /home/wei-chun/.local/lib/python3.6/site-packages/tensorflow/python/training/monitored_session.py:804: start_queue_runners (from tensorflow.python.training.queue_runner_impl) is deprecated and will be removed in a future version.\n",
      "Instructions for updating:\n",
      "To construct input pipelines, use the `tf.data` module.\n",
      "INFO:tensorflow:Saving checkpoints for 0 into /tmp/tmpwg4__zap/model.ckpt.\n",
      "INFO:tensorflow:loss = 0.00428363, step = 1\n",
      "INFO:tensorflow:global_step/sec: 304.048\n",
      "INFO:tensorflow:loss = 7.285021e-08, step = 101 (0.330 sec)\n",
      "INFO:tensorflow:global_step/sec: 347.694\n",
      "INFO:tensorflow:loss = 2.9991124e-08, step = 201 (0.287 sec)\n",
      "INFO:tensorflow:global_step/sec: 325.285\n",
      "INFO:tensorflow:loss = 1.317915e-08, step = 301 (0.307 sec)\n",
      "INFO:tensorflow:global_step/sec: 350.761\n",
      "INFO:tensorflow:loss = 3.5386517e-08, step = 401 (0.285 sec)\n",
      "INFO:tensorflow:global_step/sec: 324.783\n",
      "INFO:tensorflow:loss = 1.2942647e-09, step = 501 (0.308 sec)\n",
      "INFO:tensorflow:global_step/sec: 335.615\n",
      "INFO:tensorflow:loss = 1.2279865e-09, step = 601 (0.298 sec)\n",
      "INFO:tensorflow:global_step/sec: 316.503\n",
      "INFO:tensorflow:loss = 1.8196566e-10, step = 701 (0.316 sec)\n",
      "INFO:tensorflow:global_step/sec: 346.123\n",
      "INFO:tensorflow:loss = 1.3347012e-10, step = 801 (0.289 sec)\n",
      "INFO:tensorflow:global_step/sec: 342.321\n",
      "INFO:tensorflow:loss = 1.1895702e-10, step = 901 (0.292 sec)\n",
      "INFO:tensorflow:global_step/sec: 343.3\n",
      "INFO:tensorflow:loss = 6.3355106e-11, step = 1001 (0.292 sec)\n",
      "INFO:tensorflow:global_step/sec: 338.516\n",
      "INFO:tensorflow:loss = 1.6556151e-10, step = 1101 (0.295 sec)\n",
      "INFO:tensorflow:global_step/sec: 333.198\n",
      "INFO:tensorflow:loss = 4.2628684e-10, step = 1201 (0.300 sec)\n",
      "INFO:tensorflow:global_step/sec: 351.663\n",
      "INFO:tensorflow:loss = 4.5573375e-11, step = 1301 (0.285 sec)\n",
      "INFO:tensorflow:global_step/sec: 349.932\n",
      "INFO:tensorflow:loss = 3.491134e-11, step = 1401 (0.285 sec)\n",
      "INFO:tensorflow:global_step/sec: 340.496\n",
      "INFO:tensorflow:loss = 6.905821e-10, step = 1501 (0.294 sec)\n",
      "INFO:tensorflow:global_step/sec: 323.685\n",
      "INFO:tensorflow:loss = 1.0406772e-11, step = 1601 (0.309 sec)\n",
      "INFO:tensorflow:global_step/sec: 312.657\n",
      "INFO:tensorflow:loss = 4.6433447e-12, step = 1701 (0.320 sec)\n",
      "INFO:tensorflow:global_step/sec: 326.833\n",
      "INFO:tensorflow:loss = 8.849785e-12, step = 1801 (0.306 sec)\n",
      "INFO:tensorflow:global_step/sec: 318.235\n",
      "INFO:tensorflow:loss = 9.34163e-11, step = 1901 (0.314 sec)\n",
      "INFO:tensorflow:global_step/sec: 334.034\n",
      "INFO:tensorflow:loss = 1.0704349e-12, step = 2001 (0.300 sec)\n",
      "INFO:tensorflow:global_step/sec: 352.591\n",
      "INFO:tensorflow:loss = 2.0665926e-12, step = 2101 (0.283 sec)\n",
      "INFO:tensorflow:global_step/sec: 341.335\n",
      "INFO:tensorflow:loss = 3.0003086e-12, step = 2201 (0.294 sec)\n",
      "INFO:tensorflow:global_step/sec: 356\n",
      "INFO:tensorflow:loss = 4.2672745e-12, step = 2301 (0.281 sec)\n",
      "INFO:tensorflow:global_step/sec: 344.887\n",
      "INFO:tensorflow:loss = 1.2423559e-12, step = 2401 (0.290 sec)\n",
      "INFO:tensorflow:global_step/sec: 320.882\n",
      "INFO:tensorflow:loss = 9.382297e-12, step = 2501 (0.312 sec)\n",
      "INFO:tensorflow:global_step/sec: 317.167\n",
      "INFO:tensorflow:loss = 1.3448809e-12, step = 2601 (0.315 sec)\n",
      "INFO:tensorflow:global_step/sec: 318.431\n",
      "INFO:tensorflow:loss = 1.0533245e-10, step = 2701 (0.314 sec)\n",
      "INFO:tensorflow:Saving checkpoints for 2704 into /tmp/tmpwg4__zap/model.ckpt.\n",
      "INFO:tensorflow:Loss for final step: 4.1199866e-11.\n"
     ]
    },
    {
     "data": {
      "text/plain": [
       "<tensorflow.python.estimator.estimator.Estimator at 0x7eff4df4dcf8>"
      ]
     },
     "execution_count": 7,
     "metadata": {},
     "output_type": "execute_result"
    }
   ],
   "source": [
    "# train estimator\n",
    "regressor.train(\n",
    "    input_fn=input_fn_train,\n",
    "    steps=None\n",
    ")"
   ]
  },
  {
   "cell_type": "code",
   "execution_count": 8,
   "metadata": {},
   "outputs": [],
   "source": [
    "# construct prediction table\n",
    "\n",
    "# list existing items with value 0\n",
    "x_pred = pd.DataFrame({'item1': list_items})\n",
    "x_pred['value1'] = 0\n",
    "x_pred['item2'] = ''\n",
    "x_pred['value2'] = 0\n",
    "\n",
    "# list existing items with value 1\n",
    "x_pred_ext = x_pred.copy()\n",
    "x_pred_ext['value1'] = 1\n",
    "x_pred = x_pred.append(x_pred_ext, ignore_index=True)\n",
    "\n",
    "# swap 1 <--> 2\n",
    "x_pred2 = x_pred[['item2', 'value2', 'item1', 'value1']]\n",
    "x_pred2.columns = ['item1', 'value1', 'item2', 'value2']\n",
    "x_pred = x_pred.append(x_pred2, ignore_index=True).drop_duplicates()"
   ]
  },
  {
   "cell_type": "code",
   "execution_count": 9,
   "metadata": {},
   "outputs": [
    {
     "name": "stdout",
     "output_type": "stream",
     "text": [
      "INFO:tensorflow:Calling model_fn.\n",
      "INFO:tensorflow:Done calling model_fn.\n",
      "INFO:tensorflow:Graph was finalized.\n",
      "INFO:tensorflow:Restoring parameters from /tmp/tmpwg4__zap/model.ckpt-2704\n",
      "INFO:tensorflow:Running local_init_op.\n",
      "INFO:tensorflow:Done running local_init_op.\n"
     ]
    }
   ],
   "source": [
    "# prediction\n",
    "predictions = list(\n",
    "    regressor.predict(\n",
    "        input_fn=tf.estimator.inputs.pandas_input_fn(\n",
    "            x=x_pred,\n",
    "            batch_size=len(x_pred),\n",
    "            num_epochs=1,\n",
    "            shuffle=False)))\n",
    "\n",
    "# output\n",
    "pred = []\n",
    "for i in predictions:\n",
    "    pred.append(np.float64(i['predictions'][0]))\n",
    "x_pred['shift'] = pred\n",
    "x_pred.to_csv('predictions.csv', sep=',', index=False)"
   ]
  }
 ],
 "metadata": {
  "kernelspec": {
   "display_name": "Python 3",
   "language": "python",
   "name": "python3"
  },
  "language_info": {
   "codemirror_mode": {
    "name": "ipython",
    "version": 3
   },
   "file_extension": ".py",
   "mimetype": "text/x-python",
   "name": "python",
   "nbconvert_exporter": "python",
   "pygments_lexer": "ipython3",
   "version": "3.6.7"
  }
 },
 "nbformat": 4,
 "nbformat_minor": 2
}

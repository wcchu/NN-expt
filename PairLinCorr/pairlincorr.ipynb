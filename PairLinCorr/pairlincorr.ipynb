{
 "cells": [
  {
   "cell_type": "code",
   "execution_count": null,
   "metadata": {},
   "outputs": [],
   "source": [
    "import numpy as np\n",
    "import pandas as pd\n",
    "import tensorflow as tf\n",
    "import matplotlib.pyplot as plt\n",
    "from sklearn.model_selection import train_test_split"
   ]
  },
  {
   "cell_type": "code",
   "execution_count": null,
   "metadata": {},
   "outputs": [],
   "source": [
    "# import\n",
    "data = pd.read_csv(\n",
    "    'input.csv', dtype={\n",
    "        'item1': str,\n",
    "        'value1': float,\n",
    "        'item2': str,\n",
    "        'value2': float\n",
    "    })\n",
    "print('data size: {}'.format(len(data)))\n",
    "\n",
    "data['shift'] = data['value2'] - data['value1']\n",
    "\n",
    "x = data[['item1', 'value1', 'item2', 'value2']]\n",
    "y = data['shift']"
   ]
  },
  {
   "cell_type": "code",
   "execution_count": null,
   "metadata": {},
   "outputs": [],
   "source": [
    "# split training and test sets\n",
    "x_train, x_test, y_train, y_test = train_test_split(\n",
    "    x, y, test_size=0.2, random_state=1)"
   ]
  },
  {
   "cell_type": "code",
   "execution_count": null,
   "metadata": {},
   "outputs": [],
   "source": [
    "# count feature values\n",
    "list_items = x_train['item1'].append(x_train['item2']).drop_duplicates().tolist()\n",
    "n_items = len(list_items)\n",
    "print(\"number of unique items: {}\".format(n_items))\n",
    "\n",
    "# columns\n",
    "item1_col = tf.feature_column.indicator_column(\n",
    "    tf.feature_column.categorical_column_with_vocabulary_list(\n",
    "        'item1', vocabulary_list=list_items))\n",
    "value1_col = tf.feature_column.numeric_column('value1')\n",
    "item2_col = tf.feature_column.indicator_column(\n",
    "    tf.feature_column.categorical_column_with_vocabulary_list(\n",
    "        'item2', vocabulary_list=list_items))\n",
    "value2_col = tf.feature_column.numeric_column('value2')"
   ]
  },
  {
   "cell_type": "code",
   "execution_count": null,
   "metadata": {},
   "outputs": [],
   "source": [
    "# build input function\n",
    "input_fn_train=tf.estimator.inputs.pandas_input_fn(\n",
    "        x=x_train,\n",
    "        y=y_train,\n",
    "        batch_size=100,\n",
    "        num_epochs=3,\n",
    "        shuffle=True\n",
    "    )"
   ]
  },
  {
   "cell_type": "code",
   "execution_count": null,
   "metadata": {},
   "outputs": [],
   "source": [
    "# build model function\n",
    "def model_fn(features, labels, mode, params):\n",
    "    input_layer = {\n",
    "        'item1': tf.feature_column.input_layer(features={'item1': features['item1']},\n",
    "                                               feature_columns=params['feature_columns'][0]),\n",
    "        'value1': tf.feature_column.input_layer(features={'value1': features['value1']},\n",
    "                                                feature_columns=params['feature_columns'][1]),\n",
    "        'item2': tf.feature_column.input_layer(features={'item2': features['item2']},\n",
    "                                               feature_columns=params['feature_columns'][2]),\n",
    "        'value2': tf.feature_column.input_layer(features={'value2': features['value2']},\n",
    "                                                feature_columns=params['feature_columns'][3])\n",
    "    }\n",
    "        \n",
    "    input_1 = tf.concat((input_layer['item1'],\n",
    "                         tf.multiply(tf.concat([input_layer['value1']]*n_items, axis=1),\n",
    "                                     input_layer['item1'])),\n",
    "                        axis=1)\n",
    "    input_2 = tf.concat((input_layer['item2'],\n",
    "                         tf.multiply(tf.concat([input_layer['value2']]*n_items, axis=1),\n",
    "                                     input_layer['item2'])),\n",
    "                        axis=1)\n",
    "    \n",
    "    subtracted = tf.subtract(input_1, input_2)\n",
    "    #subtracted = tf.subtract(input_layer['item1'], input_layer['item2'])\n",
    "    out = tf.layers.dense(\n",
    "        inputs=subtracted,\n",
    "        units=1,\n",
    "        use_bias=False,\n",
    "        kernel_initializer=None)\n",
    "\n",
    "    # define head\n",
    "    my_head = tf.contrib.estimator.regression_head(\n",
    "        label_dimension=1,\n",
    "        loss_fn=None  # custom loss, default: mean_squared_error\n",
    "    )\n",
    "\n",
    "    return my_head.create_estimator_spec(\n",
    "        features=features,\n",
    "        mode=mode,\n",
    "        labels=labels,\n",
    "        optimizer=tf.train.FtrlOptimizer(params['step_size']),\n",
    "        logits=out,\n",
    "    )"
   ]
  },
  {
   "cell_type": "code",
   "execution_count": null,
   "metadata": {},
   "outputs": [],
   "source": [
    "# define dir to save model\n",
    "model_dir = 'model_dir/'\n",
    "\n",
    "# custom estimator\n",
    "regressor = tf.estimator.Estimator(\n",
    "    model_dir=model_dir,\n",
    "    model_fn=model_fn,\n",
    "    params={'feature_columns': [item1_col, value1_col, item2_col, value2_col],\n",
    "            'step_size': 0.1}\n",
    ")"
   ]
  },
  {
   "cell_type": "code",
   "execution_count": null,
   "metadata": {},
   "outputs": [],
   "source": [
    "# train estimator\n",
    "regressor.train(\n",
    "    input_fn=input_fn_train,\n",
    "    steps=None\n",
    ")"
   ]
  },
  {
   "cell_type": "code",
   "execution_count": null,
   "metadata": {},
   "outputs": [],
   "source": [
    "checkpoint = tf.train.get_checkpoint_state(checkpoint_dir=model_dir)\n",
    "\n",
    "with tf.Session() as sess:\n",
    "    saver = tf.train.import_meta_graph(checkpoint.model_checkpoint_path + '.meta')\n",
    "    saver.restore(sess, checkpoint.model_checkpoint_path)\n",
    "\n",
    "    # just to check all variables values\n",
    "    v = sess.run(tf.global_variables())\n",
    "\n",
    "    # get your variable\n",
    "    #KEY = 'linear/linear_model/0/weights/part_0:0'# for tf.estimator.LinearClassifier first weight\n",
    "    #var_wights_0 = [v for v in tf.get_collection(tf.GraphKeys.GLOBAL_VARIABLES) if v.name == KEY][0]\n",
    "    #v = sess.run(var_wights_0)"
   ]
  },
  {
   "cell_type": "code",
   "execution_count": null,
   "metadata": {},
   "outputs": [],
   "source": [
    "print(v)"
   ]
  },
  {
   "cell_type": "code",
   "execution_count": null,
   "metadata": {},
   "outputs": [],
   "source": [
    "# evaluation\n",
    "\n",
    "# evaluation input function\n",
    "input_fn_eval=tf.estimator.inputs.pandas_input_fn(\n",
    "        x=x_test,\n",
    "        y=y_test,\n",
    "        batch_size=1,\n",
    "        num_epochs=1,\n",
    "        shuffle=False\n",
    "    )\n",
    "\n",
    "# evaluate\n",
    "eval_result = regressor.evaluate(input_fn=input_fn_eval)\n",
    "print(eval_result)"
   ]
  },
  {
   "cell_type": "code",
   "execution_count": null,
   "metadata": {},
   "outputs": [],
   "source": [
    "print(eval_result)"
   ]
  },
  {
   "cell_type": "code",
   "execution_count": null,
   "metadata": {},
   "outputs": [],
   "source": [
    "# construct prediction table\n",
    "\n",
    "# list existing items with value 0\n",
    "x_pred = pd.DataFrame({'item1': list_items})\n",
    "x_pred['value1'] = 0\n",
    "x_pred['item2'] = ''\n",
    "x_pred['value2'] = 0\n",
    "\n",
    "# list existing items with value 1\n",
    "x_pred_ext = x_pred.copy()\n",
    "x_pred_ext['value1'] = 1\n",
    "x_pred = x_pred.append(x_pred_ext, ignore_index=True)\n",
    "\n",
    "# swap 1 <--> 2\n",
    "x_pred2 = x_pred[['item2', 'value2', 'item1', 'value1']]\n",
    "x_pred2.columns = ['item1', 'value1', 'item2', 'value2']\n",
    "x_pred = x_pred.append(x_pred2, ignore_index=True).drop_duplicates()"
   ]
  },
  {
   "cell_type": "code",
   "execution_count": null,
   "metadata": {},
   "outputs": [],
   "source": [
    "# prediction\n",
    "predictions = list(\n",
    "    regressor.predict(\n",
    "        input_fn=tf.estimator.inputs.pandas_input_fn(\n",
    "            x=x_pred,\n",
    "            batch_size=len(x_pred),\n",
    "            num_epochs=1,\n",
    "            shuffle=False)))\n",
    "\n",
    "# output\n",
    "pred = []\n",
    "for i in predictions:\n",
    "    pred.append(np.float64(i['predictions'][0]))\n",
    "x_pred['shift'] = pred\n",
    "x_pred.to_csv('predictions.csv', sep=',', index=False)"
   ]
  }
 ],
 "metadata": {
  "kernelspec": {
   "display_name": "Python 3",
   "language": "python",
   "name": "python3"
  },
  "language_info": {
   "codemirror_mode": {
    "name": "ipython",
    "version": 3
   },
   "file_extension": ".py",
   "mimetype": "text/x-python",
   "name": "python",
   "nbconvert_exporter": "python",
   "pygments_lexer": "ipython3",
   "version": "3.6.7"
  }
 },
 "nbformat": 4,
 "nbformat_minor": 2
}

{
 "cells": [
  {
   "cell_type": "code",
   "execution_count": null,
   "metadata": {},
   "outputs": [],
   "source": [
    "import numpy as np\n",
    "import pandas as pd\n",
    "import tensorflow as tf"
   ]
  },
  {
   "cell_type": "code",
   "execution_count": null,
   "metadata": {},
   "outputs": [],
   "source": [
    "# import\n",
    "data = pd.read_csv(\n",
    "    'input.csv', dtype={\n",
    "        'item1': str,\n",
    "        'item2': str,\n",
    "        'dif': float\n",
    "    })\n",
    "print('data size: {}'.format(len(data)))\n",
    "\n",
    "x = data[['item1', 'item2']]\n",
    "y = data['dif']"
   ]
  },
  {
   "cell_type": "code",
   "execution_count": null,
   "metadata": {},
   "outputs": [],
   "source": [
    "# count feature values\n",
    "list_items = x['item1'].append(x['item2']).drop_duplicates().tolist()\n",
    "print(\"number of unique items: {}\".format(len(list_items)))\n",
    "\n",
    "# columns\n",
    "item1_col = tf.feature_column.indicator_column(\n",
    "    tf.feature_column.categorical_column_with_vocabulary_list(\n",
    "        'item1', vocabulary_list=list_items))\n",
    "item2_col = tf.feature_column.indicator_column(\n",
    "    tf.feature_column.categorical_column_with_vocabulary_list(\n",
    "        'item2', vocabulary_list=list_items))\n",
    "dif_col = tf.feature_column.numeric_column('dif')"
   ]
  },
  {
   "cell_type": "code",
   "execution_count": null,
   "metadata": {},
   "outputs": [],
   "source": [
    "# build input function\n",
    "input_fn_train=tf.estimator.inputs.pandas_input_fn(\n",
    "        x=x,\n",
    "        y=y,\n",
    "        batch_size=100,\n",
    "        num_epochs=1,\n",
    "        shuffle=True\n",
    "    )"
   ]
  },
  {
   "cell_type": "code",
   "execution_count": null,
   "metadata": {},
   "outputs": [],
   "source": [
    "# build model function\n",
    "def model_fn(features, labels, mode, params):\n",
    "    # split features into ref and tar features\n",
    "    col1 = params['feature_columns'][0]\n",
    "    col2 = params['feature_columns'][1]\n",
    "    feats = {\n",
    "        'col1':{'item1': features['item1']},\n",
    "        'col2':{'item2': features['item2']}\n",
    "    }\n",
    "    input_layer = {\n",
    "        'col1': tf.feature_column.input_layer(feats['col1'], col1),\n",
    "        'col2': tf.feature_column.input_layer(feats['col2'], col2),\n",
    "    }\n",
    "    subtracted = tf.subtract(input_layer['col1'], input_layer['col2'])\n",
    "    out = tf.layers.dense(\n",
    "        subtracted, units=1,\n",
    "        use_bias=False,\n",
    "        kernel_initializer=None)\n",
    "\n",
    "    # define head\n",
    "    my_head = tf.contrib.estimator.regression_head(\n",
    "        label_dimension=1,\n",
    "        loss_fn=None  # custom loss, default: mean_squared_error\n",
    "    )\n",
    "\n",
    "    return my_head.create_estimator_spec(\n",
    "        features=features,\n",
    "        mode=mode,\n",
    "        labels=labels,\n",
    "        optimizer=tf.train.FtrlOptimizer(params['step_size']),\n",
    "        logits=out,\n",
    "    )"
   ]
  },
  {
   "cell_type": "code",
   "execution_count": null,
   "metadata": {},
   "outputs": [],
   "source": [
    "# custom estimator\n",
    "regressor = tf.estimator.Estimator(\n",
    "    model_fn=model_fn,\n",
    "    params={'feature_columns': [item1_col, item2_col],\n",
    "            'step_size': 0.2}\n",
    ")\n",
    "\n",
    "# train estimator\n",
    "regressor.train(\n",
    "    input_fn=input_fn_train,\n",
    "    steps=None\n",
    ")"
   ]
  },
  {
   "cell_type": "code",
   "execution_count": null,
   "metadata": {},
   "outputs": [],
   "source": [
    "# construct prediction table\n",
    "x_pred = x.drop_duplicates()\n",
    "x_pred2 = x_pred[['item2', 'item1']]\n",
    "x_pred2.columns = ['item1', 'item2']\n",
    "x_pred = x_pred.append(x_pred2, ignore_index=True).drop_duplicates()\n",
    "x_pred.loc[len(x_pred)] = ['', '']"
   ]
  },
  {
   "cell_type": "code",
   "execution_count": null,
   "metadata": {},
   "outputs": [],
   "source": [
    "# predict for each item\n",
    "predictions = list(\n",
    "    regressor.predict(\n",
    "        input_fn=tf.estimator.inputs.pandas_input_fn(\n",
    "            x=x_pred, batch_size=len(x_pred), num_epochs=1, shuffle=False)))\n",
    "\n",
    "# output\n",
    "pred = []\n",
    "for i in predictions:\n",
    "    pred.append(np.float64(i['predictions'][0]))\n",
    "x_pred['shift'] = pred\n",
    "x_pred.to_csv('predictions.csv', sep=',', index=False)"
   ]
  }
 ],
 "metadata": {
  "kernelspec": {
   "display_name": "Python 2",
   "language": "python",
   "name": "python2"
  },
  "language_info": {
   "codemirror_mode": {
    "name": "ipython",
    "version": 2
   },
   "file_extension": ".py",
   "mimetype": "text/x-python",
   "name": "python",
   "nbconvert_exporter": "python",
   "pygments_lexer": "ipython2",
   "version": "2.7.16"
  }
 },
 "nbformat": 4,
 "nbformat_minor": 2
}

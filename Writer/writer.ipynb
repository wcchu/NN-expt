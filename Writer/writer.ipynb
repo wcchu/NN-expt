{
 "cells": [
  {
   "cell_type": "code",
   "execution_count": 1,
   "metadata": {},
   "outputs": [],
   "source": [
    "import tensorflow as tf\n",
    "import numpy as np\n",
    "import collections\n",
    "\n",
    "tf.reset_default_graph()\n",
    "sess = tf.InteractiveSession()"
   ]
  },
  {
   "cell_type": "markdown",
   "metadata": {},
   "source": [
    "# Import data"
   ]
  },
  {
   "cell_type": "code",
   "execution_count": 2,
   "metadata": {},
   "outputs": [],
   "source": [
    "def get_data(data_path=None):\n",
    "    \"\"\"Load raw data from data directory \"data_path\".\n",
    "    Reads text file, converts strings to integer ids\n",
    "    Args:\n",
    "    data_path: string path to the directory\n",
    "    Returns:\n",
    "    tuple (raw_data, vocabulary)\n",
    "    \"\"\"\n",
    "  \n",
    "    data = tf.gfile.GFile(data_path, \"r\").read().replace(\"\\n\", \"<eos> \").replace(\".\", \"\").replace(\",\", \"\").replace(\";\", \"\").split()    \n",
    "    counter = collections.Counter(data)\n",
    "    count_pairs = sorted(counter.items(), key=lambda x: (-x[1], x[0]))\n",
    "\n",
    "    words, _ = list(zip(*count_pairs))\n",
    "    word_to_id = dict(zip(words, range(len(words))))\n",
    "    id_to_word = dict(zip(range(len(words)), words))\n",
    "\n",
    "    data_in_ids = [word_to_id[word] for word in data if word in word_to_id]\n",
    "    return data, data_in_ids, word_to_id, id_to_word"
   ]
  },
  {
   "cell_type": "code",
   "execution_count": 3,
   "metadata": {},
   "outputs": [],
   "source": [
    "# converting a one-hot array into a word\n",
    "def vec_to_word(vec, id_to_word):\n",
    "    index = np.argmax(vec, axis=0) # get the index of the most probable word\n",
    "    word = id_to_word[index]\n",
    "    return word"
   ]
  },
  {
   "cell_type": "code",
   "execution_count": 4,
   "metadata": {},
   "outputs": [
    {
     "name": "stdout",
     "output_type": "stream",
     "text": [
      "643\n"
     ]
    }
   ],
   "source": [
    "raw_data_words, raw_data_ids, word_to_id, id_to_word = get_data(\"bible_100.txt\")\n",
    "n_words = len(word_to_id)\n",
    "print(n_words)"
   ]
  },
  {
   "cell_type": "markdown",
   "metadata": {},
   "source": [
    "# Training"
   ]
  },
  {
   "cell_type": "markdown",
   "metadata": {},
   "source": [
    "### Random batch function"
   ]
  },
  {
   "cell_type": "code",
   "execution_count": 5,
   "metadata": {},
   "outputs": [],
   "source": [
    "# build a random batch from data\n",
    "def get_batch(data, batch_size, time_steps, input_size):\n",
    "    batch = np.zeros([batch_size, time_steps+1, input_size])\n",
    "    for row in range(batch_size):\n",
    "        t0 = np.random.randint(0, len(data)-time_steps) # starting time\n",
    "        batch[row, :, :] = np.eye(input_size)[data[t0:t0+time_steps+1]]\n",
    "    return batch[:, :-1, :], batch[:, 1:, :]"
   ]
  },
  {
   "cell_type": "markdown",
   "metadata": {},
   "source": [
    "### Parameters"
   ]
  },
  {
   "cell_type": "code",
   "execution_count": 6,
   "metadata": {},
   "outputs": [],
   "source": [
    "# Input size\n",
    "batch_size = 10\n",
    "time_steps = 10\n",
    "#epochs = 1 # not considering epoch now\n",
    "\n",
    "# max number of iterations\n",
    "iterations = 200\n",
    "\n",
    "# learning rate\n",
    "learning_rate = 0.1"
   ]
  },
  {
   "cell_type": "markdown",
   "metadata": {},
   "source": [
    "### Set up RNN"
   ]
  },
  {
   "cell_type": "code",
   "execution_count": 7,
   "metadata": {},
   "outputs": [],
   "source": [
    "# Input / Output(target)\n",
    "X = tf.placeholder(tf.float32, [None, time_steps, n_words])\n",
    "Y = tf.placeholder(tf.float32, [None, time_steps, n_words])"
   ]
  },
  {
   "cell_type": "code",
   "execution_count": 8,
   "metadata": {},
   "outputs": [],
   "source": [
    "# Define a gru cell\n",
    "cell = tf.nn.rnn_cell.GRUCell(n_words)\n",
    "\n",
    "# Get gru cell output\n",
    "outputs, states = tf.nn.dynamic_rnn(cell, X, dtype=tf.float32)"
   ]
  },
  {
   "cell_type": "markdown",
   "metadata": {},
   "source": [
    "### Define loss and optimizer"
   ]
  },
  {
   "cell_type": "code",
   "execution_count": 9,
   "metadata": {},
   "outputs": [],
   "source": [
    "# Loss & optimizer\n",
    "loss = tf.reduce_mean(tf.square(outputs - Y))\n",
    "optimizer = tf.train.AdamOptimizer(learning_rate=learning_rate)\n",
    "\n",
    "# Training\n",
    "train = optimizer.minimize(loss)\n",
    "\n",
    "# Initializer\n",
    "init = tf.global_variables_initializer()\n",
    "\n",
    "# Save model\n",
    "saver = tf.train.Saver()"
   ]
  },
  {
   "cell_type": "markdown",
   "metadata": {},
   "source": [
    "### Run training"
   ]
  },
  {
   "cell_type": "code",
   "execution_count": 10,
   "metadata": {},
   "outputs": [
    {
     "name": "stdout",
     "output_type": "stream",
     "text": [
      "0 0.0046547707\n",
      "10 0.036068976\n",
      "20 0.2511616\n",
      "30 0.24094781\n",
      "40 0.15811719\n",
      "50 0.075291894\n",
      "60 0.0680719\n",
      "70 0.036473114\n",
      "80 0.04251855\n",
      "90 0.105542675\n",
      "100 0.035253294\n",
      "110 0.03041741\n",
      "120 0.09842419\n",
      "130 0.016475076\n",
      "140 0.01389665\n",
      "150 0.009611361\n",
      "160 0.009774543\n",
      "170 0.09145613\n",
      "180 0.09465058\n",
      "190 0.011495933\n"
     ]
    }
   ],
   "source": [
    "# Run the model\n",
    "with tf.Session() as sess:\n",
    "    sess.run(init)\n",
    "    \n",
    "    for iteration in range(iterations):\n",
    "        \n",
    "        x_batch, y_batch = get_batch(\n",
    "            data=raw_data_ids,\n",
    "            batch_size=batch_size,\n",
    "            time_steps=time_steps,\n",
    "            input_size=n_words)\n",
    "        \n",
    "        sess.run(train, feed_dict={X: x_batch, Y: y_batch})\n",
    "        \n",
    "        if iteration % 10 == 0:\n",
    "            loss_ = loss.eval(feed_dict={X: x_batch, Y: y_batch})\n",
    "            print(iteration, loss_)\n",
    "    \n",
    "    saver.save(sess, \"./model\")"
   ]
  },
  {
   "cell_type": "markdown",
   "metadata": {},
   "source": [
    "# Generate new text"
   ]
  },
  {
   "cell_type": "markdown",
   "metadata": {},
   "source": [
    "Use this sentence to start the prediction: \"N years ago the marketing managers were expected researchers.\""
   ]
  },
  {
   "cell_type": "code",
   "execution_count": 11,
   "metadata": {},
   "outputs": [
    {
     "name": "stdout",
     "output_type": "stream",
     "text": [
      "['heaven', 'beginning', 'Woman,', 'way,', 'garden', 'waters.', 'breath', 'evil,', 'him.', 'eat:']\n"
     ]
    }
   ],
   "source": [
    "seed_ids = np.random.randint(0, n_words, 10)\n",
    "seed_sentence = [id_to_word[id] for id in seed_ids]\n",
    "print(seed_sentence)\n",
    "initial_seed = np.eye(n_words)[seed_ids].reshape(1, time_steps, n_words)"
   ]
  },
  {
   "cell_type": "code",
   "execution_count": 12,
   "metadata": {},
   "outputs": [
    {
     "name": "stdout",
     "output_type": "stream",
     "text": [
      "INFO:tensorflow:Restoring parameters from ./model\n",
      "0\n",
      "1\n",
      "2\n",
      "3\n",
      "4\n",
      "5\n",
      "6\n",
      "7\n",
      "8\n",
      "9\n"
     ]
    }
   ],
   "source": [
    "pred_iterations = 10\n",
    "seed = initial_seed.copy()\n",
    "with tf.Session() as sess:\n",
    "    \n",
    "    saver.restore(sess, \"./model\")\n",
    "    \n",
    "    for iteration in range(pred_iterations):\n",
    "        print(iteration)\n",
    "        x_pred = seed[:, -time_steps:, :]\n",
    "        pred_probs = sess.run(outputs, feed_dict={X: x_pred})\n",
    "        pred_last_index = np.argmax(pred_probs[:, -1:, :], axis=2)\n",
    "        pred_last_word = id_to_word[pred_last_index[0][0]]\n",
    "        seed_to_add = np.eye(n_words)[pred_last_index]\n",
    "        seed = np.append(seed, seed_to_add, axis=1)"
   ]
  },
  {
   "cell_type": "code",
   "execution_count": 13,
   "metadata": {},
   "outputs": [
    {
     "name": "stdout",
     "output_type": "stream",
     "text": [
      "['heaven', 'beginning', 'Woman,', 'way,', 'garden', 'waters.', 'breath', 'evil,', 'him.', 'eat:', 'lights', 'kill', 'night;', 'earth', 'blessed', 'where', 'Earth;', 'kill', 'where', 'kill']\n"
     ]
    }
   ],
   "source": [
    "final_sentence_ids = np.argmax(seed, axis=2)\n",
    "final_sentence = [id_to_word[id] for id in final_sentence_ids[0]]\n",
    "print(final_sentence)"
   ]
  }
 ],
 "metadata": {
  "kernelspec": {
   "display_name": "Python 3",
   "language": "python",
   "name": "python3"
  },
  "language_info": {
   "codemirror_mode": {
    "name": "ipython",
    "version": 3
   },
   "file_extension": ".py",
   "mimetype": "text/x-python",
   "name": "python",
   "nbconvert_exporter": "python",
   "pygments_lexer": "ipython3",
   "version": "3.6.7"
  }
 },
 "nbformat": 4,
 "nbformat_minor": 2
}

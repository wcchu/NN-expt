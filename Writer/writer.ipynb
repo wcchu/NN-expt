{
 "cells": [
  {
   "cell_type": "code",
   "execution_count": 1,
   "metadata": {},
   "outputs": [],
   "source": [
    "import tensorflow as tf\n",
    "import numpy as np\n",
    "import collections\n",
    "\n",
    "tf.reset_default_graph()\n",
    "sess = tf.InteractiveSession()"
   ]
  },
  {
   "cell_type": "markdown",
   "metadata": {},
   "source": [
    "# Import data"
   ]
  },
  {
   "cell_type": "code",
   "execution_count": 2,
   "metadata": {},
   "outputs": [],
   "source": [
    "def get_data(data_path=None):\n",
    "    \"\"\"Load raw data from data directory \"data_path\".\n",
    "    Reads text file, converts strings to integer ids\n",
    "    Args:\n",
    "    data_path: string path to the directory\n",
    "    Returns:\n",
    "    tuple (raw_data, vocabulary)\n",
    "    \"\"\"\n",
    "  \n",
    "    data = tf.gfile.GFile(data_path, \"r\").read().replace(\"\\n\", \"<eos>\").split()\n",
    "    \n",
    "    counter = collections.Counter(data)\n",
    "    count_pairs = sorted(counter.items(), key=lambda x: (-x[1], x[0]))\n",
    "\n",
    "    words, _ = list(zip(*count_pairs))\n",
    "    word_to_id = dict(zip(words, range(len(words))))\n",
    "    id_to_word = dict(zip(range(len(words)), words))\n",
    "\n",
    "    data_in_ids = [word_to_id[word] for word in data if word in word_to_id]\n",
    "    return data, data_in_ids, word_to_id, id_to_word"
   ]
  },
  {
   "cell_type": "code",
   "execution_count": 3,
   "metadata": {},
   "outputs": [],
   "source": [
    "# converting a one-hot array into a word\n",
    "def vec_to_word(vec, id_to_word):\n",
    "    index = np.argmax(vec, axis=0) # get the index of the most probable word\n",
    "    word = id_to_word[index]\n",
    "    return word"
   ]
  },
  {
   "cell_type": "code",
   "execution_count": 4,
   "metadata": {},
   "outputs": [
    {
     "name": "stdout",
     "output_type": "stream",
     "text": [
      "745\n"
     ]
    }
   ],
   "source": [
    "raw_data_words, raw_data_ids, word_to_id, id_to_word = get_data(\"train.txt\")\n",
    "n_words = len(word_to_id)\n",
    "print(n_words)"
   ]
  },
  {
   "cell_type": "markdown",
   "metadata": {},
   "source": [
    "# Training"
   ]
  },
  {
   "cell_type": "markdown",
   "metadata": {},
   "source": [
    "### Random batch function"
   ]
  },
  {
   "cell_type": "code",
   "execution_count": 5,
   "metadata": {},
   "outputs": [],
   "source": [
    "# build a random batch from data\n",
    "def get_batch(data, batch_size, time_steps, input_size):\n",
    "    batch = np.zeros([batch_size, time_steps+1, input_size])\n",
    "    for row in range(batch_size):\n",
    "        t0 = np.random.randint(0, len(data)-time_steps) # starting time\n",
    "        batch[row, :, :] = np.eye(input_size)[data[t0:t0+time_steps+1]]\n",
    "    return batch[:, :-1, :], batch[:, 1:, :]"
   ]
  },
  {
   "cell_type": "markdown",
   "metadata": {},
   "source": [
    "### Parameters"
   ]
  },
  {
   "cell_type": "code",
   "execution_count": 6,
   "metadata": {},
   "outputs": [],
   "source": [
    "# Input size\n",
    "batch_size = 5\n",
    "time_steps = 10\n",
    "#epochs = 1 # not considering epoch now\n",
    "\n",
    "# max number of iterations\n",
    "iterations = 200\n",
    "\n",
    "# learning rate\n",
    "n_neurons = 5\n",
    "learning_rate = 0.1"
   ]
  },
  {
   "cell_type": "markdown",
   "metadata": {},
   "source": [
    "### Set up RNN"
   ]
  },
  {
   "cell_type": "code",
   "execution_count": 7,
   "metadata": {},
   "outputs": [],
   "source": [
    "# Input / Output(target)\n",
    "X = tf.placeholder(tf.float32, [None, time_steps, n_words])\n",
    "Y = tf.placeholder(tf.float32, [None, time_steps, n_words])"
   ]
  },
  {
   "cell_type": "code",
   "execution_count": 8,
   "metadata": {},
   "outputs": [],
   "source": [
    "# Define a gru cell\n",
    "cell = tf.nn.rnn_cell.GRUCell(n_words)\n",
    "#cell = tf.contrib.rnn.OutputProjectionWrapper(\n",
    "#    tf.contrib.rnn.BasicRNNCell(num_units=n_neurons, activation=tf.nn.relu),\n",
    "#    output_size=n_words)\n",
    "\n",
    "# Get gru cell output\n",
    "outputs, states = tf.nn.dynamic_rnn(cell, X, dtype=tf.float32)\n",
    "\n",
    "# Final output layer\n",
    "dense = tf.layers.dense(inputs=outputs, units=n_words, activation=None)\n",
    "\n",
    "# Class probabilities\n",
    "probs = tf.nn.softmax(dense)"
   ]
  },
  {
   "cell_type": "markdown",
   "metadata": {},
   "source": [
    "### Define loss and optimizer"
   ]
  },
  {
   "cell_type": "code",
   "execution_count": 9,
   "metadata": {},
   "outputs": [],
   "source": [
    "# Loss & optimizer\n",
    "#loss = tf.reduce_mean(tf.nn.softmax_cross_entropy_with_logits_v2(labels=Y, logits=probs))\n",
    "loss = tf.reduce_mean(tf.square(outputs - Y))\n",
    "optimizer = tf.train.AdamOptimizer(learning_rate=learning_rate)\n",
    "\n",
    "# Training\n",
    "train = optimizer.minimize(loss)\n",
    "\n",
    "# Initializer\n",
    "init = tf.global_variables_initializer()"
   ]
  },
  {
   "cell_type": "markdown",
   "metadata": {},
   "source": [
    "### Run training"
   ]
  },
  {
   "cell_type": "code",
   "execution_count": 10,
   "metadata": {},
   "outputs": [
    {
     "name": "stdout",
     "output_type": "stream",
     "text": [
      "0 0.0045956825\n",
      "10 0.03775016\n",
      "20 0.042112395\n",
      "30 0.022589331\n",
      "40 0.018119223\n",
      "50 0.013709886\n",
      "60 0.009618984\n",
      "70 0.010496552\n",
      "80 0.007123581\n",
      "90 0.01038665\n",
      "100 0.00651928\n",
      "110 0.0062417127\n",
      "120 0.0053795455\n",
      "130 0.0051027513\n",
      "140 0.0033686475\n",
      "150 0.0031024183\n",
      "160 0.0044150236\n",
      "170 0.0047595785\n",
      "180 0.0031650236\n",
      "190 0.0028660947\n"
     ]
    }
   ],
   "source": [
    "# Run the model\n",
    "with tf.Session() as sess:\n",
    "    sess.run(init)\n",
    "    \n",
    "    for iteration in range(iterations):\n",
    "        \n",
    "        x_batch, y_batch = get_batch(\n",
    "            data=raw_data_ids,\n",
    "            batch_size=batch_size,\n",
    "            time_steps=time_steps,\n",
    "            input_size=n_words)\n",
    "        \n",
    "        sess.run(train, feed_dict={X: x_batch, Y: y_batch})\n",
    "        \n",
    "        if iteration % 10 == 0:\n",
    "            loss_ = loss.eval(feed_dict={X: x_batch, Y: y_batch})\n",
    "            print(iteration, loss_)"
   ]
  },
  {
   "cell_type": "markdown",
   "metadata": {},
   "source": [
    "# Test"
   ]
  }
 ],
 "metadata": {
  "kernelspec": {
   "display_name": "Python 3",
   "language": "python",
   "name": "python3"
  },
  "language_info": {
   "codemirror_mode": {
    "name": "ipython",
    "version": 3
   },
   "file_extension": ".py",
   "mimetype": "text/x-python",
   "name": "python",
   "nbconvert_exporter": "python",
   "pygments_lexer": "ipython3",
   "version": "3.6.7"
  }
 },
 "nbformat": 4,
 "nbformat_minor": 2
}
